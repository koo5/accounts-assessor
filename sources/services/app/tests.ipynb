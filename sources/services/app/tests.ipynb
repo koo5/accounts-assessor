{
 "cells": [
  {
   "cell_type": "code",
   "execution_count": 1,
   "outputs": [],
   "source": [
    "%load_ext autoreload"
   ],
   "metadata": {
    "collapsed": false,
    "ExecuteTime": {
     "end_time": "2023-10-22T15:13:46.569539686Z",
     "start_time": "2023-10-22T15:13:46.569167228Z"
    }
   },
   "id": "52a72d4fb822a89f"
  },
  {
   "cell_type": "code",
   "execution_count": 2,
   "outputs": [],
   "source": [
    "%autoreload 2"
   ],
   "metadata": {
    "collapsed": false,
    "ExecuteTime": {
     "end_time": "2023-10-22T15:13:46.569876217Z",
     "start_time": "2023-10-22T15:13:46.569372453Z"
    }
   },
   "id": "41aed043447a802e"
  },
  {
   "cell_type": "code",
   "execution_count": 3,
   "outputs": [
    {
     "name": "stdout",
     "output_type": "stream",
     "text": [
      "input\n"
     ]
    },
    {
     "data": {
      "text/plain": "<IPython.core.display.HTML object>",
      "text/html": "<table border=\"1\" class=\"dataframe\">\n  <thead>\n    <tr style=\"text-align: right;\">\n      <th>year</th>\n      <th>remain</th>\n      <th>fiscal</th>\n      <th>date</th>\n      <th>type</th>\n      <th>final_balance</th>\n      <th>term</th>\n      <th>note</th>\n      <th>rate</th>\n      <th>amount</th>\n      <th>days</th>\n      <th>interest_accrued</th>\n      <th>total_repaid</th>\n      <th>total_repaid_for_myr_calc</th>\n      <th>counts_towards_initial_balance</th>\n      <th>myr_required</th>\n      <th>shortfall</th>\n      <th>excess</th>\n      <th>principal</th>\n      <th>calculation_income_year</th>\n    </tr>\n  </thead>\n  <tbody>\n    <tr>\n      <td>0</td>\n      <td>2</td>\n      <td>1998</td>\n      <td>1998-06-30</td>\n      <td>loan_start</td>\n      <td></td>\n      <td>1</td>\n      <td></td>\n      <td></td>\n      <td></td>\n      <td></td>\n      <td></td>\n      <td></td>\n      <td></td>\n      <td></td>\n      <td></td>\n      <td></td>\n      <td></td>\n      <td>NaN</td>\n      <td>1999.0</td>\n    </tr>\n    <tr>\n      <td>0</td>\n      <td>2</td>\n      <td>1998</td>\n      <td>1998-06-30</td>\n      <td>opening_balance</td>\n      <td></td>\n      <td></td>\n      <td></td>\n      <td></td>\n      <td>298.0</td>\n      <td></td>\n      <td></td>\n      <td></td>\n      <td></td>\n      <td></td>\n      <td></td>\n      <td></td>\n      <td></td>\n      <td>NaN</td>\n      <td>NaN</td>\n    </tr>\n    <tr>\n      <td>1</td>\n      <td>1</td>\n      <td>1999</td>\n      <td>1998-07-01</td>\n      <td>calculation_start</td>\n      <td></td>\n      <td></td>\n      <td></td>\n      <td></td>\n      <td></td>\n      <td></td>\n      <td></td>\n      <td></td>\n      <td></td>\n      <td></td>\n      <td></td>\n      <td></td>\n      <td></td>\n      <td>NaN</td>\n      <td>NaN</td>\n    </tr>\n    <tr>\n      <td>1</td>\n      <td>1</td>\n      <td>1999</td>\n      <td>1999-02-04</td>\n      <td>lodgement</td>\n      <td></td>\n      <td></td>\n      <td></td>\n      <td></td>\n      <td></td>\n      <td></td>\n      <td></td>\n      <td></td>\n      <td></td>\n      <td></td>\n      <td></td>\n      <td></td>\n      <td></td>\n      <td>NaN</td>\n      <td>NaN</td>\n    </tr>\n    <tr>\n      <td>1</td>\n      <td>1</td>\n      <td>1999</td>\n      <td>1999-06-30</td>\n      <td>calculation_end</td>\n      <td></td>\n      <td></td>\n      <td></td>\n      <td></td>\n      <td></td>\n      <td></td>\n      <td></td>\n      <td></td>\n      <td></td>\n      <td></td>\n      <td></td>\n      <td></td>\n      <td></td>\n      <td>NaN</td>\n      <td>NaN</td>\n    </tr>\n  </tbody>\n</table>"
     },
     "metadata": {},
     "output_type": "display_data"
    },
    {
     "name": "stdout",
     "output_type": "stream",
     "text": [
      "ensure_opening_balance_exists\n"
     ]
    },
    {
     "data": {
      "text/plain": "<IPython.core.display.HTML object>",
      "text/html": "<table border=\"1\" class=\"dataframe\">\n  <thead>\n    <tr style=\"text-align: right;\">\n      <th>year</th>\n      <th>remain</th>\n      <th>fiscal</th>\n      <th>date</th>\n      <th>type</th>\n      <th>final_balance</th>\n      <th>term</th>\n      <th>note</th>\n      <th>rate</th>\n      <th>amount</th>\n      <th>days</th>\n      <th>interest_accrued</th>\n      <th>total_repaid</th>\n      <th>total_repaid_for_myr_calc</th>\n      <th>counts_towards_initial_balance</th>\n      <th>myr_required</th>\n      <th>shortfall</th>\n      <th>excess</th>\n      <th>principal</th>\n      <th>calculation_income_year</th>\n    </tr>\n  </thead>\n  <tbody>\n    <tr>\n      <td>0</td>\n      <td>2</td>\n      <td>1998</td>\n      <td>1998-06-30</td>\n      <td>loan_start</td>\n      <td></td>\n      <td>1</td>\n      <td></td>\n      <td></td>\n      <td></td>\n      <td></td>\n      <td></td>\n      <td></td>\n      <td></td>\n      <td></td>\n      <td></td>\n      <td></td>\n      <td></td>\n      <td>NaN</td>\n      <td>1999.0</td>\n    </tr>\n    <tr>\n      <td>0</td>\n      <td>2</td>\n      <td>1998</td>\n      <td>1998-06-30</td>\n      <td>opening_balance</td>\n      <td></td>\n      <td></td>\n      <td></td>\n      <td></td>\n      <td>298.0</td>\n      <td></td>\n      <td></td>\n      <td></td>\n      <td></td>\n      <td></td>\n      <td></td>\n      <td></td>\n      <td></td>\n      <td>NaN</td>\n      <td>NaN</td>\n    </tr>\n    <tr>\n      <td>1</td>\n      <td>1</td>\n      <td>1999</td>\n      <td>1998-07-01</td>\n      <td>calculation_start</td>\n      <td></td>\n      <td></td>\n      <td></td>\n      <td></td>\n      <td></td>\n      <td></td>\n      <td></td>\n      <td></td>\n      <td></td>\n      <td></td>\n      <td></td>\n      <td></td>\n      <td></td>\n      <td>NaN</td>\n      <td>NaN</td>\n    </tr>\n    <tr>\n      <td>1</td>\n      <td>1</td>\n      <td>1999</td>\n      <td>1999-02-04</td>\n      <td>lodgement</td>\n      <td></td>\n      <td></td>\n      <td></td>\n      <td></td>\n      <td></td>\n      <td></td>\n      <td></td>\n      <td></td>\n      <td></td>\n      <td></td>\n      <td></td>\n      <td></td>\n      <td></td>\n      <td>NaN</td>\n      <td>NaN</td>\n    </tr>\n    <tr>\n      <td>1</td>\n      <td>1</td>\n      <td>1999</td>\n      <td>1999-06-30</td>\n      <td>calculation_end</td>\n      <td></td>\n      <td></td>\n      <td></td>\n      <td></td>\n      <td></td>\n      <td></td>\n      <td></td>\n      <td></td>\n      <td></td>\n      <td></td>\n      <td></td>\n      <td></td>\n      <td></td>\n      <td>NaN</td>\n      <td>NaN</td>\n    </tr>\n  </tbody>\n</table>"
     },
     "metadata": {},
     "output_type": "display_data"
    },
    {
     "name": "stdout",
     "output_type": "stream",
     "text": [
      "insert_interest_accrual_records\n"
     ]
    },
    {
     "ename": "ValueError",
     "evalue": "Can only compare identically-labeled (both index and columns) DataFrame objects",
     "output_type": "error",
     "traceback": [
      "\u001B[0;31m---------------------------------------------------------------------------\u001B[0m",
      "\u001B[0;31mValueError\u001B[0m                                Traceback (most recent call last)",
      "\u001B[0;32m/tmp/ipykernel_1189453/2511872263.py\u001B[0m in \u001B[0;36m?\u001B[0;34m()\u001B[0m\n\u001B[1;32m      1\u001B[0m \u001B[0;32mfrom\u001B[0m \u001B[0mapp\u001B[0m\u001B[0;34m.\u001B[0m\u001B[0mdiv7a\u001B[0m \u001B[0;32mimport\u001B[0m \u001B[0;34m*\u001B[0m\u001B[0;34m\u001B[0m\u001B[0;34m\u001B[0m\u001B[0m\n\u001B[0;32m----> 2\u001B[0;31m \u001B[0mdiv7a_from_json\u001B[0m\u001B[0;34m(\u001B[0m\u001B[0;34m{\u001B[0m\u001B[0;34m'computation_income_year'\u001B[0m\u001B[0;34m:\u001B[0m \u001B[0;34m'1999'\u001B[0m\u001B[0;34m,\u001B[0m \u001B[0;34m'creation_income_year'\u001B[0m\u001B[0;34m:\u001B[0m \u001B[0;34m'1998'\u001B[0m\u001B[0;34m,\u001B[0m \u001B[0;34m'lodgement_date'\u001B[0m\u001B[0;34m:\u001B[0m \u001B[0;34m'1999-02-04'\u001B[0m\u001B[0;34m,\u001B[0m \u001B[0;34m'opening_balance'\u001B[0m\u001B[0;34m:\u001B[0m \u001B[0;34m'298'\u001B[0m\u001B[0;34m,\u001B[0m \u001B[0;34m'principal_amount'\u001B[0m\u001B[0;34m:\u001B[0m \u001B[0;34m-\u001B[0m\u001B[0;36m1\u001B[0m\u001B[0;34m,\u001B[0m \u001B[0;34m'repayments'\u001B[0m\u001B[0;34m:\u001B[0m \u001B[0;34m[\u001B[0m\u001B[0;34m]\u001B[0m\u001B[0;34m,\u001B[0m \u001B[0;34m'term'\u001B[0m\u001B[0;34m:\u001B[0m \u001B[0;34m'1'\u001B[0m\u001B[0;34m}\u001B[0m\u001B[0;34m)\u001B[0m\u001B[0;34m\u001B[0m\u001B[0;34m\u001B[0m\u001B[0m\n\u001B[0m\u001B[1;32m      3\u001B[0m \u001B[0;34m\u001B[0m\u001B[0m\n\u001B[1;32m      4\u001B[0m \u001B[0;34m\u001B[0m\u001B[0m\n",
      "\u001B[0;32m~/repos/koo5/accounts-assessor/0/accounts-assessor/sources/services/app/div7a.py\u001B[0m in \u001B[0;36m?\u001B[0;34m(j)\u001B[0m\n\u001B[1;32m     60\u001B[0m \u001B[0;34m\u001B[0m\u001B[0m\n\u001B[1;32m     61\u001B[0m \u001B[0;34m\u001B[0m\u001B[0m\n\u001B[1;32m     62\u001B[0m         \u001B[0;32mif\u001B[0m \u001B[0;32mnot\u001B[0m \u001B[0min_notebook\u001B[0m\u001B[0;34m(\u001B[0m\u001B[0;34m)\u001B[0m\u001B[0;34m:\u001B[0m\u001B[0;34m\u001B[0m\u001B[0;34m\u001B[0m\u001B[0m\n\u001B[1;32m     63\u001B[0m                 \u001B[0mlog\u001B[0m\u001B[0;34m.\u001B[0m\u001B[0mwarn\u001B[0m\u001B[0;34m(\u001B[0m\u001B[0mrecords\u001B[0m\u001B[0;34m)\u001B[0m\u001B[0;34m\u001B[0m\u001B[0;34m\u001B[0m\u001B[0m\n\u001B[0;32m---> 64\u001B[0;31m         \u001B[0mrecords\u001B[0m \u001B[0;34m=\u001B[0m \u001B[0mdiv7a\u001B[0m\u001B[0;34m(\u001B[0m\u001B[0mrecords\u001B[0m\u001B[0;34m)\u001B[0m\u001B[0;34m\u001B[0m\u001B[0;34m\u001B[0m\u001B[0m\n\u001B[0m\u001B[1;32m     65\u001B[0m \u001B[0;34m\u001B[0m\u001B[0m\n\u001B[1;32m     66\u001B[0m         \u001B[0mmyr_info\u001B[0m \u001B[0;34m=\u001B[0m \u001B[0mget_myr_check_of_income_year\u001B[0m\u001B[0;34m(\u001B[0m\u001B[0mrecords\u001B[0m\u001B[0;34m,\u001B[0m \u001B[0mciy\u001B[0m\u001B[0;34m)\u001B[0m\u001B[0;34m.\u001B[0m\u001B[0minfo\u001B[0m\u001B[0;34m\u001B[0m\u001B[0;34m\u001B[0m\u001B[0m\n\u001B[1;32m     67\u001B[0m \u001B[0;34m\u001B[0m\u001B[0m\n",
      "\u001B[0;32m~/repos/koo5/accounts-assessor/0/accounts-assessor/sources/services/app/div7a.py\u001B[0m in \u001B[0;36m?\u001B[0;34m(records)\u001B[0m\n\u001B[1;32m     87\u001B[0m                 \u001B[0mstep\u001B[0m\u001B[0;34m(\u001B[0m\u001B[0mooo\u001B[0m\u001B[0;34m,\u001B[0m \u001B[0mtables\u001B[0m\u001B[0;34m,\u001B[0m \u001B[0minput\u001B[0m\u001B[0;34m)\u001B[0m\u001B[0;34m\u001B[0m\u001B[0;34m\u001B[0m\u001B[0m\n\u001B[1;32m     88\u001B[0m                 \u001B[0;31m# insert opening_balance record if it's not there\u001B[0m\u001B[0;34m\u001B[0m\u001B[0;34m\u001B[0m\u001B[0m\n\u001B[1;32m     89\u001B[0m                 \u001B[0mstep\u001B[0m\u001B[0;34m(\u001B[0m\u001B[0mooo\u001B[0m\u001B[0;34m,\u001B[0m \u001B[0mtables\u001B[0m\u001B[0;34m,\u001B[0m \u001B[0mensure_opening_balance_exists\u001B[0m\u001B[0;34m)\u001B[0m\u001B[0;34m\u001B[0m\u001B[0;34m\u001B[0m\u001B[0m\n\u001B[1;32m     90\u001B[0m                 \u001B[0;31m# we insert accrual points for each income year, and for each repayment.\u001B[0m\u001B[0;34m\u001B[0m\u001B[0;34m\u001B[0m\u001B[0m\n\u001B[0;32m---> 91\u001B[0;31m                 \u001B[0mstep\u001B[0m\u001B[0;34m(\u001B[0m\u001B[0mooo\u001B[0m\u001B[0;34m,\u001B[0m \u001B[0mtables\u001B[0m\u001B[0;34m,\u001B[0m \u001B[0minsert_interest_accrual_records\u001B[0m\u001B[0;34m)\u001B[0m\u001B[0;34m\u001B[0m\u001B[0;34m\u001B[0m\u001B[0m\n\u001B[0m\u001B[1;32m     92\u001B[0m                 \u001B[0;31m# we calculate the number of days of each accrual period\u001B[0m\u001B[0;34m\u001B[0m\u001B[0;34m\u001B[0m\u001B[0m\n\u001B[1;32m     93\u001B[0m                 \u001B[0mstep\u001B[0m\u001B[0;34m(\u001B[0m\u001B[0mooo\u001B[0m\u001B[0;34m,\u001B[0m \u001B[0mtables\u001B[0m\u001B[0;34m,\u001B[0m \u001B[0mwith_interest_accrual_days\u001B[0m\u001B[0;34m)\u001B[0m\u001B[0;34m\u001B[0m\u001B[0;34m\u001B[0m\u001B[0m\n\u001B[1;32m     94\u001B[0m                 \u001B[0;31m# we propagate balance from start or from opening balance, adjusting for repayments\u001B[0m\u001B[0;34m\u001B[0m\u001B[0;34m\u001B[0m\u001B[0m\n",
      "\u001B[0;32m~/repos/koo5/accounts-assessor/0/accounts-assessor/sources/services/app/div7a.py\u001B[0m in \u001B[0;36m?\u001B[0;34m(ooo, tables, f)\u001B[0m\n\u001B[1;32m    136\u001B[0m \u001B[0;34m\u001B[0m\u001B[0m\n\u001B[1;32m    137\u001B[0m                 \u001B[0mdf1\u001B[0m \u001B[0;34m=\u001B[0m \u001B[0mdf\u001B[0m\u001B[0;34m(\u001B[0m\u001B[0mt1\u001B[0m\u001B[0;34m)\u001B[0m\u001B[0;34m\u001B[0m\u001B[0;34m\u001B[0m\u001B[0m\n\u001B[1;32m    138\u001B[0m                 \u001B[0mdf2\u001B[0m \u001B[0;34m=\u001B[0m \u001B[0mdf\u001B[0m\u001B[0;34m(\u001B[0m\u001B[0mt2\u001B[0m\u001B[0;34m)\u001B[0m\u001B[0;34m\u001B[0m\u001B[0;34m\u001B[0m\u001B[0m\n\u001B[1;32m    139\u001B[0m \u001B[0;34m\u001B[0m\u001B[0m\n\u001B[0;32m--> 140\u001B[0;31m                 \u001B[0mcompare\u001B[0m \u001B[0;34m=\u001B[0m \u001B[0mdf1\u001B[0m\u001B[0;34m.\u001B[0m\u001B[0mcompare\u001B[0m\u001B[0;34m(\u001B[0m\u001B[0mdf2\u001B[0m\u001B[0;34m,\u001B[0m \u001B[0mkeep_shape\u001B[0m\u001B[0;34m=\u001B[0m\u001B[0;32mTrue\u001B[0m\u001B[0;34m)\u001B[0m\u001B[0;34m.\u001B[0m\u001B[0mdrop\u001B[0m\u001B[0;34m(\u001B[0m\u001B[0;34m'other'\u001B[0m\u001B[0;34m,\u001B[0m \u001B[0mlevel\u001B[0m\u001B[0;34m=\u001B[0m\u001B[0;36m1\u001B[0m\u001B[0;34m,\u001B[0m \u001B[0maxis\u001B[0m\u001B[0;34m=\u001B[0m\u001B[0;36m1\u001B[0m\u001B[0;34m)\u001B[0m\u001B[0;34m\u001B[0m\u001B[0;34m\u001B[0m\u001B[0m\n\u001B[0m\u001B[1;32m    141\u001B[0m                 \u001B[0mcompare\u001B[0m \u001B[0;34m=\u001B[0m \u001B[0mcompare\u001B[0m\u001B[0;34m.\u001B[0m\u001B[0mdroplevel\u001B[0m\u001B[0;34m(\u001B[0m\u001B[0;36m1\u001B[0m\u001B[0;34m,\u001B[0m \u001B[0maxis\u001B[0m\u001B[0;34m=\u001B[0m\u001B[0;36m1\u001B[0m\u001B[0;34m)\u001B[0m\u001B[0;34m.\u001B[0m\u001B[0mdropna\u001B[0m\u001B[0;34m(\u001B[0m\u001B[0mhow\u001B[0m\u001B[0;34m=\u001B[0m\u001B[0;34m'all'\u001B[0m\u001B[0;34m)\u001B[0m\u001B[0;34m\u001B[0m\u001B[0;34m\u001B[0m\u001B[0m\n\u001B[1;32m    142\u001B[0m \u001B[0;34m\u001B[0m\u001B[0m\n\u001B[1;32m    143\u001B[0m                 \u001B[0mdf2\u001B[0m\u001B[0;34m.\u001B[0m\u001B[0mstyle\u001B[0m\u001B[0;34m.\u001B[0m\u001B[0mapply\u001B[0m\u001B[0;34m(\u001B[0m\u001B[0;32mlambda\u001B[0m \u001B[0mx\u001B[0m\u001B[0;34m:\u001B[0m \u001B[0mdf2\u001B[0m\u001B[0;34m.\u001B[0m\u001B[0mapplymap\u001B[0m\u001B[0;34m(\u001B[0m\u001B[0mcolor_cells\u001B[0m\u001B[0;34m)\u001B[0m\u001B[0;34m,\u001B[0m \u001B[0maxis\u001B[0m\u001B[0;34m=\u001B[0m\u001B[0;32mNone\u001B[0m\u001B[0;34m)\u001B[0m\u001B[0;34m\u001B[0m\u001B[0;34m\u001B[0m\u001B[0m\n",
      "\u001B[0;32m~/repos/koo5/accounts-assessor/0/accounts-assessor/sources/services/venv/lib/python3.10/site-packages/pandas/core/frame.py\u001B[0m in \u001B[0;36m?\u001B[0;34m(self, other, align_axis, keep_shape, keep_equal, result_names)\u001B[0m\n\u001B[1;32m   8295\u001B[0m         \u001B[0mkeep_shape\u001B[0m\u001B[0;34m:\u001B[0m \u001B[0mbool\u001B[0m \u001B[0;34m=\u001B[0m \u001B[0;32mFalse\u001B[0m\u001B[0;34m,\u001B[0m\u001B[0;34m\u001B[0m\u001B[0;34m\u001B[0m\u001B[0m\n\u001B[1;32m   8296\u001B[0m         \u001B[0mkeep_equal\u001B[0m\u001B[0;34m:\u001B[0m \u001B[0mbool\u001B[0m \u001B[0;34m=\u001B[0m \u001B[0;32mFalse\u001B[0m\u001B[0;34m,\u001B[0m\u001B[0;34m\u001B[0m\u001B[0;34m\u001B[0m\u001B[0m\n\u001B[1;32m   8297\u001B[0m         \u001B[0mresult_names\u001B[0m\u001B[0;34m:\u001B[0m \u001B[0mSuffixes\u001B[0m \u001B[0;34m=\u001B[0m \u001B[0;34m(\u001B[0m\u001B[0;34m\"self\"\u001B[0m\u001B[0;34m,\u001B[0m \u001B[0;34m\"other\"\u001B[0m\u001B[0;34m)\u001B[0m\u001B[0;34m,\u001B[0m\u001B[0;34m\u001B[0m\u001B[0;34m\u001B[0m\u001B[0m\n\u001B[1;32m   8298\u001B[0m     ) -> DataFrame:\n\u001B[0;32m-> 8299\u001B[0;31m         return super().compare(\n\u001B[0m\u001B[1;32m   8300\u001B[0m             \u001B[0mother\u001B[0m\u001B[0;34m=\u001B[0m\u001B[0mother\u001B[0m\u001B[0;34m,\u001B[0m\u001B[0;34m\u001B[0m\u001B[0;34m\u001B[0m\u001B[0m\n\u001B[1;32m   8301\u001B[0m             \u001B[0malign_axis\u001B[0m\u001B[0;34m=\u001B[0m\u001B[0malign_axis\u001B[0m\u001B[0;34m,\u001B[0m\u001B[0;34m\u001B[0m\u001B[0;34m\u001B[0m\u001B[0m\n\u001B[1;32m   8302\u001B[0m             \u001B[0mkeep_shape\u001B[0m\u001B[0;34m=\u001B[0m\u001B[0mkeep_shape\u001B[0m\u001B[0;34m,\u001B[0m\u001B[0;34m\u001B[0m\u001B[0;34m\u001B[0m\u001B[0m\n",
      "\u001B[0;32m~/repos/koo5/accounts-assessor/0/accounts-assessor/sources/services/venv/lib/python3.10/site-packages/pandas/core/generic.py\u001B[0m in \u001B[0;36m?\u001B[0;34m(self, other, align_axis, keep_shape, keep_equal, result_names)\u001B[0m\n\u001B[1;32m   9773\u001B[0m             raise TypeError(\n\u001B[1;32m   9774\u001B[0m                 \u001B[0;34mf\"can only compare '{cls_self}' (not '{cls_other}') with '{cls_self}'\"\u001B[0m\u001B[0;34m\u001B[0m\u001B[0;34m\u001B[0m\u001B[0m\n\u001B[1;32m   9775\u001B[0m             )\n\u001B[1;32m   9776\u001B[0m \u001B[0;34m\u001B[0m\u001B[0m\n\u001B[0;32m-> 9777\u001B[0;31m         \u001B[0mmask\u001B[0m \u001B[0;34m=\u001B[0m \u001B[0;34m~\u001B[0m\u001B[0;34m(\u001B[0m\u001B[0;34m(\u001B[0m\u001B[0mself\u001B[0m \u001B[0;34m==\u001B[0m \u001B[0mother\u001B[0m\u001B[0;34m)\u001B[0m \u001B[0;34m|\u001B[0m \u001B[0;34m(\u001B[0m\u001B[0mself\u001B[0m\u001B[0;34m.\u001B[0m\u001B[0misna\u001B[0m\u001B[0;34m(\u001B[0m\u001B[0;34m)\u001B[0m \u001B[0;34m&\u001B[0m \u001B[0mother\u001B[0m\u001B[0;34m.\u001B[0m\u001B[0misna\u001B[0m\u001B[0;34m(\u001B[0m\u001B[0;34m)\u001B[0m\u001B[0;34m)\u001B[0m\u001B[0;34m)\u001B[0m\u001B[0;34m\u001B[0m\u001B[0;34m\u001B[0m\u001B[0m\n\u001B[0m\u001B[1;32m   9778\u001B[0m         \u001B[0mmask\u001B[0m\u001B[0;34m.\u001B[0m\u001B[0mfillna\u001B[0m\u001B[0;34m(\u001B[0m\u001B[0;32mTrue\u001B[0m\u001B[0;34m,\u001B[0m \u001B[0minplace\u001B[0m\u001B[0;34m=\u001B[0m\u001B[0;32mTrue\u001B[0m\u001B[0;34m)\u001B[0m\u001B[0;34m\u001B[0m\u001B[0;34m\u001B[0m\u001B[0m\n\u001B[1;32m   9779\u001B[0m \u001B[0;34m\u001B[0m\u001B[0m\n\u001B[1;32m   9780\u001B[0m         \u001B[0;32mif\u001B[0m \u001B[0;32mnot\u001B[0m \u001B[0mkeep_equal\u001B[0m\u001B[0;34m:\u001B[0m\u001B[0;34m\u001B[0m\u001B[0;34m\u001B[0m\u001B[0m\n",
      "\u001B[0;32m~/repos/koo5/accounts-assessor/0/accounts-assessor/sources/services/venv/lib/python3.10/site-packages/pandas/core/ops/common.py\u001B[0m in \u001B[0;36m?\u001B[0;34m(self, other)\u001B[0m\n\u001B[1;32m     72\u001B[0m                     \u001B[0;32mreturn\u001B[0m \u001B[0mNotImplemented\u001B[0m\u001B[0;34m\u001B[0m\u001B[0;34m\u001B[0m\u001B[0m\n\u001B[1;32m     73\u001B[0m \u001B[0;34m\u001B[0m\u001B[0m\n\u001B[1;32m     74\u001B[0m         \u001B[0mother\u001B[0m \u001B[0;34m=\u001B[0m \u001B[0mitem_from_zerodim\u001B[0m\u001B[0;34m(\u001B[0m\u001B[0mother\u001B[0m\u001B[0;34m)\u001B[0m\u001B[0;34m\u001B[0m\u001B[0;34m\u001B[0m\u001B[0m\n\u001B[1;32m     75\u001B[0m \u001B[0;34m\u001B[0m\u001B[0m\n\u001B[0;32m---> 76\u001B[0;31m         \u001B[0;32mreturn\u001B[0m \u001B[0mmethod\u001B[0m\u001B[0;34m(\u001B[0m\u001B[0mself\u001B[0m\u001B[0;34m,\u001B[0m \u001B[0mother\u001B[0m\u001B[0;34m)\u001B[0m\u001B[0;34m\u001B[0m\u001B[0;34m\u001B[0m\u001B[0m\n\u001B[0m",
      "\u001B[0;32m~/repos/koo5/accounts-assessor/0/accounts-assessor/sources/services/venv/lib/python3.10/site-packages/pandas/core/arraylike.py\u001B[0m in \u001B[0;36m?\u001B[0;34m(self, other)\u001B[0m\n\u001B[1;32m     38\u001B[0m     \u001B[0;34m@\u001B[0m\u001B[0munpack_zerodim_and_defer\u001B[0m\u001B[0;34m(\u001B[0m\u001B[0;34m\"__eq__\"\u001B[0m\u001B[0;34m)\u001B[0m\u001B[0;34m\u001B[0m\u001B[0;34m\u001B[0m\u001B[0m\n\u001B[1;32m     39\u001B[0m     \u001B[0;32mdef\u001B[0m \u001B[0m__eq__\u001B[0m\u001B[0;34m(\u001B[0m\u001B[0mself\u001B[0m\u001B[0;34m,\u001B[0m \u001B[0mother\u001B[0m\u001B[0;34m)\u001B[0m\u001B[0;34m:\u001B[0m\u001B[0;34m\u001B[0m\u001B[0;34m\u001B[0m\u001B[0m\n\u001B[0;32m---> 40\u001B[0;31m         \u001B[0;32mreturn\u001B[0m \u001B[0mself\u001B[0m\u001B[0;34m.\u001B[0m\u001B[0m_cmp_method\u001B[0m\u001B[0;34m(\u001B[0m\u001B[0mother\u001B[0m\u001B[0;34m,\u001B[0m \u001B[0moperator\u001B[0m\u001B[0;34m.\u001B[0m\u001B[0meq\u001B[0m\u001B[0;34m)\u001B[0m\u001B[0;34m\u001B[0m\u001B[0;34m\u001B[0m\u001B[0m\n\u001B[0m",
      "\u001B[0;32m~/repos/koo5/accounts-assessor/0/accounts-assessor/sources/services/venv/lib/python3.10/site-packages/pandas/core/frame.py\u001B[0m in \u001B[0;36m?\u001B[0;34m(self, other, op)\u001B[0m\n\u001B[1;32m   7628\u001B[0m     \u001B[0;32mdef\u001B[0m \u001B[0m_cmp_method\u001B[0m\u001B[0;34m(\u001B[0m\u001B[0mself\u001B[0m\u001B[0;34m,\u001B[0m \u001B[0mother\u001B[0m\u001B[0;34m,\u001B[0m \u001B[0mop\u001B[0m\u001B[0;34m)\u001B[0m\u001B[0;34m:\u001B[0m\u001B[0;34m\u001B[0m\u001B[0;34m\u001B[0m\u001B[0m\n\u001B[1;32m   7629\u001B[0m         \u001B[0maxis\u001B[0m\u001B[0;34m:\u001B[0m \u001B[0mLiteral\u001B[0m\u001B[0;34m[\u001B[0m\u001B[0;36m1\u001B[0m\u001B[0;34m]\u001B[0m \u001B[0;34m=\u001B[0m \u001B[0;36m1\u001B[0m  \u001B[0;31m# only relevant for Series other case\u001B[0m\u001B[0;34m\u001B[0m\u001B[0;34m\u001B[0m\u001B[0m\n\u001B[1;32m   7630\u001B[0m \u001B[0;34m\u001B[0m\u001B[0m\n\u001B[0;32m-> 7631\u001B[0;31m         \u001B[0mself\u001B[0m\u001B[0;34m,\u001B[0m \u001B[0mother\u001B[0m \u001B[0;34m=\u001B[0m \u001B[0mself\u001B[0m\u001B[0;34m.\u001B[0m\u001B[0m_align_for_op\u001B[0m\u001B[0;34m(\u001B[0m\u001B[0mother\u001B[0m\u001B[0;34m,\u001B[0m \u001B[0maxis\u001B[0m\u001B[0;34m,\u001B[0m \u001B[0mflex\u001B[0m\u001B[0;34m=\u001B[0m\u001B[0;32mFalse\u001B[0m\u001B[0;34m,\u001B[0m \u001B[0mlevel\u001B[0m\u001B[0;34m=\u001B[0m\u001B[0;32mNone\u001B[0m\u001B[0;34m)\u001B[0m\u001B[0;34m\u001B[0m\u001B[0;34m\u001B[0m\u001B[0m\n\u001B[0m\u001B[1;32m   7632\u001B[0m \u001B[0;34m\u001B[0m\u001B[0m\n\u001B[1;32m   7633\u001B[0m         \u001B[0;31m# See GH#4537 for discussion of scalar op behavior\u001B[0m\u001B[0;34m\u001B[0m\u001B[0;34m\u001B[0m\u001B[0m\n\u001B[1;32m   7634\u001B[0m         \u001B[0mnew_data\u001B[0m \u001B[0;34m=\u001B[0m \u001B[0mself\u001B[0m\u001B[0;34m.\u001B[0m\u001B[0m_dispatch_frame_op\u001B[0m\u001B[0;34m(\u001B[0m\u001B[0mother\u001B[0m\u001B[0;34m,\u001B[0m \u001B[0mop\u001B[0m\u001B[0;34m,\u001B[0m \u001B[0maxis\u001B[0m\u001B[0;34m=\u001B[0m\u001B[0maxis\u001B[0m\u001B[0;34m)\u001B[0m\u001B[0;34m\u001B[0m\u001B[0;34m\u001B[0m\u001B[0m\n",
      "\u001B[0;32m~/repos/koo5/accounts-assessor/0/accounts-assessor/sources/services/venv/lib/python3.10/site-packages/pandas/core/frame.py\u001B[0m in \u001B[0;36m?\u001B[0;34m(self, other, axis, flex, level)\u001B[0m\n\u001B[1;32m   7926\u001B[0m                     left, right = left.align(\n\u001B[1;32m   7927\u001B[0m                         \u001B[0mright\u001B[0m\u001B[0;34m,\u001B[0m \u001B[0mjoin\u001B[0m\u001B[0;34m=\u001B[0m\u001B[0;34m\"outer\"\u001B[0m\u001B[0;34m,\u001B[0m \u001B[0mlevel\u001B[0m\u001B[0;34m=\u001B[0m\u001B[0mlevel\u001B[0m\u001B[0;34m,\u001B[0m \u001B[0mcopy\u001B[0m\u001B[0;34m=\u001B[0m\u001B[0;32mFalse\u001B[0m\u001B[0;34m\u001B[0m\u001B[0;34m\u001B[0m\u001B[0m\n\u001B[1;32m   7928\u001B[0m                     )\n\u001B[1;32m   7929\u001B[0m                 \u001B[0;32melse\u001B[0m\u001B[0;34m:\u001B[0m\u001B[0;34m\u001B[0m\u001B[0;34m\u001B[0m\u001B[0m\n\u001B[0;32m-> 7930\u001B[0;31m                     raise ValueError(\n\u001B[0m\u001B[1;32m   7931\u001B[0m                         \u001B[0;34m\"Can only compare identically-labeled (both index and columns) \"\u001B[0m\u001B[0;34m\u001B[0m\u001B[0;34m\u001B[0m\u001B[0m\n\u001B[1;32m   7932\u001B[0m                         \u001B[0;34m\"DataFrame objects\"\u001B[0m\u001B[0;34m\u001B[0m\u001B[0;34m\u001B[0m\u001B[0m\n\u001B[1;32m   7933\u001B[0m                     )\n",
      "\u001B[0;31mValueError\u001B[0m: Can only compare identically-labeled (both index and columns) DataFrame objects"
     ]
    }
   ],
   "source": [
    "from app.div7a import *\n",
    "div7a_from_json({'computation_income_year': '1999', 'creation_income_year': '1998', 'lodgement_date': '1999-02-04', 'opening_balance': '298', 'principal_amount': -1, 'repayments': [], 'term': '1'})\n",
    "\n"
   ],
   "metadata": {
    "collapsed": false,
    "ExecuteTime": {
     "end_time": "2023-10-22T15:13:46.911749390Z",
     "start_time": "2023-10-22T15:13:46.569459045Z"
    }
   },
   "id": "72160ad69bfdef21"
  }
 ],
 "metadata": {
  "kernelspec": {
   "display_name": "Python 3",
   "language": "python",
   "name": "python3"
  },
  "language_info": {
   "codemirror_mode": {
    "name": "ipython",
    "version": 2
   },
   "file_extension": ".py",
   "mimetype": "text/x-python",
   "name": "python",
   "nbconvert_exporter": "python",
   "pygments_lexer": "ipython2",
   "version": "2.7.6"
  }
 },
 "nbformat": 4,
 "nbformat_minor": 5
}
