{
 "cells": [
  {
   "cell_type": "code",
   "execution_count": 1,
   "outputs": [],
   "source": [
    "%load_ext autoreload"
   ],
   "metadata": {
    "collapsed": false,
    "ExecuteTime": {
     "end_time": "2023-10-21T19:24:05.223435242Z",
     "start_time": "2023-10-21T19:24:05.198718637Z"
    }
   },
   "id": "52a72d4fb822a89f"
  },
  {
   "cell_type": "code",
   "execution_count": 2,
   "outputs": [],
   "source": [
    "%autoreload 2"
   ],
   "metadata": {
    "collapsed": false,
    "ExecuteTime": {
     "end_time": "2023-10-21T19:24:05.239478231Z",
     "start_time": "2023-10-21T19:24:05.234653346Z"
    }
   },
   "id": "41aed043447a802e"
  },
  {
   "cell_type": "code",
   "execution_count": 4,
   "outputs": [
    {
     "name": "stderr",
     "output_type": "stream",
     "text": [
      "SortedList([1998-06-30:loan_start({'principal': None, 'term': 1, 'calculation_income_year': 1999}), 1998-06-30:opening_balance({'amount': 298.0}), 1999-02-04:lodgement({})])\n"
     ]
    },
    {
     "name": "stdout",
     "output_type": "stream",
     "text": [
      "input\n"
     ]
    },
    {
     "data": {
      "text/plain": "<IPython.core.display.HTML object>",
      "text/html": "<table border=\"1\" class=\"dataframe\">\n  <thead>\n    <tr style=\"text-align: right;\">\n      <th>year</th>\n      <th>remain</th>\n      <th>fiscal</th>\n      <th>date</th>\n      <th>type</th>\n      <th>final_balance</th>\n      <th>term</th>\n      <th>note</th>\n      <th>rate</th>\n      <th>amount</th>\n      <th>days</th>\n      <th>interest_accrued</th>\n      <th>total_repaid</th>\n      <th>total_repaid_for_myr_calc</th>\n      <th>counts_towards_initial_balance</th>\n      <th>myr_required</th>\n      <th>shortfall</th>\n      <th>excess</th>\n      <th>principal</th>\n      <th>calculation_income_year</th>\n    </tr>\n  </thead>\n  <tbody>\n    <tr>\n      <td>0</td>\n      <td>2</td>\n      <td>1998</td>\n      <td>1998-06-30</td>\n      <td>loan_start</td>\n      <td></td>\n      <td>1</td>\n      <td></td>\n      <td></td>\n      <td></td>\n      <td></td>\n      <td></td>\n      <td></td>\n      <td></td>\n      <td></td>\n      <td></td>\n      <td></td>\n      <td></td>\n      <td>NaN</td>\n      <td>1999.0</td>\n    </tr>\n    <tr>\n      <td>0</td>\n      <td>2</td>\n      <td>1998</td>\n      <td>1998-06-30</td>\n      <td>opening_balance</td>\n      <td></td>\n      <td></td>\n      <td></td>\n      <td></td>\n      <td>298.0</td>\n      <td></td>\n      <td></td>\n      <td></td>\n      <td></td>\n      <td></td>\n      <td></td>\n      <td></td>\n      <td></td>\n      <td>NaN</td>\n      <td>NaN</td>\n    </tr>\n    <tr>\n      <td>1</td>\n      <td>1</td>\n      <td>1999</td>\n      <td>1999-02-04</td>\n      <td>lodgement</td>\n      <td></td>\n      <td></td>\n      <td></td>\n      <td></td>\n      <td></td>\n      <td></td>\n      <td></td>\n      <td></td>\n      <td></td>\n      <td></td>\n      <td></td>\n      <td></td>\n      <td></td>\n      <td>NaN</td>\n      <td>NaN</td>\n    </tr>\n  </tbody>\n</table>"
     },
     "metadata": {},
     "output_type": "display_data"
    },
    {
     "name": "stdout",
     "output_type": "stream",
     "text": [
      "ensure_opening_balance_exists\n"
     ]
    },
    {
     "data": {
      "text/plain": "<IPython.core.display.HTML object>",
      "text/html": "<table border=\"1\" class=\"dataframe\">\n  <thead>\n    <tr style=\"text-align: right;\">\n      <th>year</th>\n      <th>remain</th>\n      <th>fiscal</th>\n      <th>date</th>\n      <th>type</th>\n      <th>final_balance</th>\n      <th>term</th>\n      <th>note</th>\n      <th>rate</th>\n      <th>amount</th>\n      <th>days</th>\n      <th>interest_accrued</th>\n      <th>total_repaid</th>\n      <th>total_repaid_for_myr_calc</th>\n      <th>counts_towards_initial_balance</th>\n      <th>myr_required</th>\n      <th>shortfall</th>\n      <th>excess</th>\n      <th>principal</th>\n      <th>calculation_income_year</th>\n    </tr>\n  </thead>\n  <tbody>\n    <tr>\n      <td>0</td>\n      <td>2</td>\n      <td>1998</td>\n      <td>1998-06-30</td>\n      <td>loan_start</td>\n      <td></td>\n      <td>1</td>\n      <td></td>\n      <td></td>\n      <td></td>\n      <td></td>\n      <td></td>\n      <td></td>\n      <td></td>\n      <td></td>\n      <td></td>\n      <td></td>\n      <td></td>\n      <td>NaN</td>\n      <td>1999.0</td>\n    </tr>\n    <tr>\n      <td>0</td>\n      <td>2</td>\n      <td>1998</td>\n      <td>1998-06-30</td>\n      <td>opening_balance</td>\n      <td></td>\n      <td></td>\n      <td></td>\n      <td></td>\n      <td>298.0</td>\n      <td></td>\n      <td></td>\n      <td></td>\n      <td></td>\n      <td></td>\n      <td></td>\n      <td></td>\n      <td></td>\n      <td>NaN</td>\n      <td>NaN</td>\n    </tr>\n    <tr>\n      <td>1</td>\n      <td>1</td>\n      <td>1999</td>\n      <td>1999-02-04</td>\n      <td>lodgement</td>\n      <td></td>\n      <td></td>\n      <td></td>\n      <td></td>\n      <td></td>\n      <td></td>\n      <td></td>\n      <td></td>\n      <td></td>\n      <td></td>\n      <td></td>\n      <td></td>\n      <td></td>\n      <td>NaN</td>\n      <td>NaN</td>\n    </tr>\n  </tbody>\n</table>"
     },
     "metadata": {},
     "output_type": "display_data"
    },
    {
     "name": "stdout",
     "output_type": "stream",
     "text": [
      "insert_interest_accrual_records\n"
     ]
    },
    {
     "data": {
      "text/plain": "<IPython.core.display.HTML object>",
      "text/html": "<table border=\"1\" class=\"dataframe\">\n  <thead>\n    <tr style=\"text-align: right;\">\n      <th>year</th>\n      <th>remain</th>\n      <th>fiscal</th>\n      <th>date</th>\n      <th>type</th>\n      <th>final_balance</th>\n      <th>term</th>\n      <th>note</th>\n      <th>rate</th>\n      <th>amount</th>\n      <th>days</th>\n      <th>interest_accrued</th>\n      <th>total_repaid</th>\n      <th>total_repaid_for_myr_calc</th>\n      <th>counts_towards_initial_balance</th>\n      <th>myr_required</th>\n      <th>shortfall</th>\n      <th>excess</th>\n      <th>principal</th>\n      <th>calculation_income_year</th>\n    </tr>\n  </thead>\n  <tbody>\n    <tr>\n      <td>0</td>\n      <td>2</td>\n      <td>1998</td>\n      <td>1998-06-30</td>\n      <td>loan_start</td>\n      <td></td>\n      <td>1</td>\n      <td></td>\n      <td></td>\n      <td></td>\n      <td></td>\n      <td></td>\n      <td></td>\n      <td></td>\n      <td></td>\n      <td></td>\n      <td></td>\n      <td></td>\n      <td>NaN</td>\n      <td>1999.0</td>\n    </tr>\n    <tr>\n      <td>0</td>\n      <td>2</td>\n      <td>1998</td>\n      <td>1998-06-30</td>\n      <td>opening_balance</td>\n      <td></td>\n      <td></td>\n      <td></td>\n      <td></td>\n      <td>298.0</td>\n      <td></td>\n      <td></td>\n      <td></td>\n      <td></td>\n      <td></td>\n      <td></td>\n      <td></td>\n      <td></td>\n      <td>NaN</td>\n      <td>NaN</td>\n    </tr>\n    <tr>\n      <td>1</td>\n      <td>1</td>\n      <td>1999</td>\n      <td>1999-02-04</td>\n      <td>lodgement</td>\n      <td></td>\n      <td></td>\n      <td></td>\n      <td></td>\n      <td></td>\n      <td></td>\n      <td></td>\n      <td></td>\n      <td></td>\n      <td></td>\n      <td></td>\n      <td></td>\n      <td></td>\n      <td>NaN</td>\n      <td>NaN</td>\n    </tr>\n    <tr>\n      <td>1</td>\n      <td>1</td>\n      <td>1999</td>\n      <td>1999-06-30</td>\n      <td>interest_accrual</td>\n      <td></td>\n      <td></td>\n      <td>for period until income year end</td>\n      <td>6.7</td>\n      <td></td>\n      <td></td>\n      <td></td>\n      <td></td>\n      <td></td>\n      <td></td>\n      <td></td>\n      <td></td>\n      <td></td>\n      <td>NaN</td>\n      <td>NaN</td>\n    </tr>\n  </tbody>\n</table>"
     },
     "metadata": {},
     "output_type": "display_data"
    },
    {
     "name": "stdout",
     "output_type": "stream",
     "text": [
      "with_interest_accrual_days\n"
     ]
    },
    {
     "data": {
      "text/plain": "<IPython.core.display.HTML object>",
      "text/html": "<table border=\"1\" class=\"dataframe\">\n  <thead>\n    <tr style=\"text-align: right;\">\n      <th>year</th>\n      <th>remain</th>\n      <th>fiscal</th>\n      <th>date</th>\n      <th>type</th>\n      <th>final_balance</th>\n      <th>term</th>\n      <th>note</th>\n      <th>rate</th>\n      <th>amount</th>\n      <th>days</th>\n      <th>interest_accrued</th>\n      <th>total_repaid</th>\n      <th>total_repaid_for_myr_calc</th>\n      <th>counts_towards_initial_balance</th>\n      <th>myr_required</th>\n      <th>shortfall</th>\n      <th>excess</th>\n      <th>principal</th>\n      <th>calculation_income_year</th>\n    </tr>\n  </thead>\n  <tbody>\n    <tr>\n      <td>0</td>\n      <td>2</td>\n      <td>1998</td>\n      <td>1998-06-30</td>\n      <td>loan_start</td>\n      <td></td>\n      <td>1</td>\n      <td></td>\n      <td></td>\n      <td></td>\n      <td></td>\n      <td></td>\n      <td></td>\n      <td></td>\n      <td></td>\n      <td></td>\n      <td></td>\n      <td></td>\n      <td>NaN</td>\n      <td>1999.0</td>\n    </tr>\n    <tr>\n      <td>0</td>\n      <td>2</td>\n      <td>1998</td>\n      <td>1998-06-30</td>\n      <td>opening_balance</td>\n      <td></td>\n      <td></td>\n      <td></td>\n      <td></td>\n      <td>298.0</td>\n      <td></td>\n      <td></td>\n      <td></td>\n      <td></td>\n      <td></td>\n      <td></td>\n      <td></td>\n      <td></td>\n      <td>NaN</td>\n      <td>NaN</td>\n    </tr>\n    <tr>\n      <td>1</td>\n      <td>1</td>\n      <td>1999</td>\n      <td>1999-02-04</td>\n      <td>lodgement</td>\n      <td></td>\n      <td></td>\n      <td></td>\n      <td></td>\n      <td></td>\n      <td></td>\n      <td></td>\n      <td></td>\n      <td></td>\n      <td></td>\n      <td></td>\n      <td></td>\n      <td></td>\n      <td>NaN</td>\n      <td>NaN</td>\n    </tr>\n    <tr>\n      <td>1</td>\n      <td>1</td>\n      <td>1999</td>\n      <td>1999-06-30</td>\n      <td>interest_accrual</td>\n      <td></td>\n      <td></td>\n      <td>for period until income year end</td>\n      <td>6.7</td>\n      <td></td>\n      <td>365</td>\n      <td></td>\n      <td></td>\n      <td></td>\n      <td></td>\n      <td></td>\n      <td></td>\n      <td></td>\n      <td>NaN</td>\n      <td>NaN</td>\n    </tr>\n  </tbody>\n</table>"
     },
     "metadata": {},
     "output_type": "display_data"
    },
    {
     "name": "stdout",
     "output_type": "stream",
     "text": [
      "with_balance_and_accrual\n"
     ]
    },
    {
     "data": {
      "text/plain": "<IPython.core.display.HTML object>",
      "text/html": "<table border=\"1\" class=\"dataframe\">\n  <thead>\n    <tr style=\"text-align: right;\">\n      <th>year</th>\n      <th>remain</th>\n      <th>fiscal</th>\n      <th>date</th>\n      <th>type</th>\n      <th>final_balance</th>\n      <th>term</th>\n      <th>note</th>\n      <th>rate</th>\n      <th>amount</th>\n      <th>days</th>\n      <th>interest_accrued</th>\n      <th>total_repaid</th>\n      <th>total_repaid_for_myr_calc</th>\n      <th>counts_towards_initial_balance</th>\n      <th>myr_required</th>\n      <th>shortfall</th>\n      <th>excess</th>\n      <th>principal</th>\n      <th>calculation_income_year</th>\n    </tr>\n  </thead>\n  <tbody>\n    <tr>\n      <td>0</td>\n      <td>2</td>\n      <td>1998</td>\n      <td>1998-06-30</td>\n      <td>loan_start</td>\n      <td></td>\n      <td>1</td>\n      <td></td>\n      <td></td>\n      <td></td>\n      <td></td>\n      <td></td>\n      <td></td>\n      <td></td>\n      <td></td>\n      <td></td>\n      <td></td>\n      <td></td>\n      <td>NaN</td>\n      <td>1999.0</td>\n    </tr>\n    <tr>\n      <td>0</td>\n      <td>2</td>\n      <td>1998</td>\n      <td>1998-06-30</td>\n      <td>opening_balance</td>\n      <td>298.0</td>\n      <td></td>\n      <td></td>\n      <td></td>\n      <td>298.0</td>\n      <td></td>\n      <td></td>\n      <td></td>\n      <td></td>\n      <td></td>\n      <td></td>\n      <td></td>\n      <td></td>\n      <td>NaN</td>\n      <td>NaN</td>\n    </tr>\n    <tr>\n      <td>1</td>\n      <td>1</td>\n      <td>1999</td>\n      <td>1999-02-04</td>\n      <td>lodgement</td>\n      <td>298.0</td>\n      <td></td>\n      <td></td>\n      <td></td>\n      <td></td>\n      <td></td>\n      <td></td>\n      <td></td>\n      <td></td>\n      <td></td>\n      <td></td>\n      <td></td>\n      <td></td>\n      <td>NaN</td>\n      <td>NaN</td>\n    </tr>\n    <tr>\n      <td>1</td>\n      <td>1</td>\n      <td>1999</td>\n      <td>1999-06-30</td>\n      <td>interest_accrual</td>\n      <td>298.0</td>\n      <td></td>\n      <td>for period until income year end</td>\n      <td>6.7</td>\n      <td></td>\n      <td>365</td>\n      <td>2294.6</td>\n      <td></td>\n      <td></td>\n      <td></td>\n      <td></td>\n      <td></td>\n      <td></td>\n      <td>NaN</td>\n      <td>NaN</td>\n    </tr>\n  </tbody>\n</table>"
     },
     "metadata": {},
     "output_type": "display_data"
    },
    {
     "name": "stdout",
     "output_type": "stream",
     "text": [
      "annotate_repayments_with_myr_relevance\n"
     ]
    },
    {
     "data": {
      "text/plain": "<IPython.core.display.HTML object>",
      "text/html": "<table border=\"1\" class=\"dataframe\">\n  <thead>\n    <tr style=\"text-align: right;\">\n      <th>year</th>\n      <th>remain</th>\n      <th>fiscal</th>\n      <th>date</th>\n      <th>type</th>\n      <th>final_balance</th>\n      <th>term</th>\n      <th>note</th>\n      <th>rate</th>\n      <th>amount</th>\n      <th>days</th>\n      <th>interest_accrued</th>\n      <th>total_repaid</th>\n      <th>total_repaid_for_myr_calc</th>\n      <th>counts_towards_initial_balance</th>\n      <th>myr_required</th>\n      <th>shortfall</th>\n      <th>excess</th>\n      <th>principal</th>\n      <th>calculation_income_year</th>\n    </tr>\n  </thead>\n  <tbody>\n    <tr>\n      <td>0</td>\n      <td>2</td>\n      <td>1998</td>\n      <td>1998-06-30</td>\n      <td>loan_start</td>\n      <td></td>\n      <td>1</td>\n      <td></td>\n      <td></td>\n      <td></td>\n      <td></td>\n      <td></td>\n      <td></td>\n      <td></td>\n      <td></td>\n      <td></td>\n      <td></td>\n      <td></td>\n      <td>NaN</td>\n      <td>1999.0</td>\n    </tr>\n    <tr>\n      <td>0</td>\n      <td>2</td>\n      <td>1998</td>\n      <td>1998-06-30</td>\n      <td>opening_balance</td>\n      <td>298.0</td>\n      <td></td>\n      <td></td>\n      <td></td>\n      <td>298.0</td>\n      <td></td>\n      <td></td>\n      <td></td>\n      <td></td>\n      <td></td>\n      <td></td>\n      <td></td>\n      <td></td>\n      <td>NaN</td>\n      <td>NaN</td>\n    </tr>\n    <tr>\n      <td>1</td>\n      <td>1</td>\n      <td>1999</td>\n      <td>1999-02-04</td>\n      <td>lodgement</td>\n      <td>298.0</td>\n      <td></td>\n      <td></td>\n      <td></td>\n      <td></td>\n      <td></td>\n      <td></td>\n      <td></td>\n      <td></td>\n      <td></td>\n      <td></td>\n      <td></td>\n      <td></td>\n      <td>NaN</td>\n      <td>NaN</td>\n    </tr>\n    <tr>\n      <td>1</td>\n      <td>1</td>\n      <td>1999</td>\n      <td>1999-06-30</td>\n      <td>interest_accrual</td>\n      <td>298.0</td>\n      <td></td>\n      <td>for period until income year end</td>\n      <td>6.7</td>\n      <td></td>\n      <td>365</td>\n      <td>2294.6</td>\n      <td></td>\n      <td></td>\n      <td></td>\n      <td></td>\n      <td></td>\n      <td></td>\n      <td>NaN</td>\n      <td>NaN</td>\n    </tr>\n  </tbody>\n</table>"
     },
     "metadata": {},
     "output_type": "display_data"
    },
    {
     "name": "stdout",
     "output_type": "stream",
     "text": [
      "with_myr_checks\n"
     ]
    },
    {
     "data": {
      "text/plain": "<IPython.core.display.HTML object>",
      "text/html": "<table border=\"1\" class=\"dataframe\">\n  <thead>\n    <tr style=\"text-align: right;\">\n      <th>year</th>\n      <th>remain</th>\n      <th>fiscal</th>\n      <th>date</th>\n      <th>type</th>\n      <th>final_balance</th>\n      <th>term</th>\n      <th>note</th>\n      <th>rate</th>\n      <th>amount</th>\n      <th>days</th>\n      <th>interest_accrued</th>\n      <th>total_repaid</th>\n      <th>total_repaid_for_myr_calc</th>\n      <th>counts_towards_initial_balance</th>\n      <th>myr_required</th>\n      <th>shortfall</th>\n      <th>excess</th>\n      <th>principal</th>\n      <th>calculation_income_year</th>\n    </tr>\n  </thead>\n  <tbody>\n    <tr>\n      <td>0</td>\n      <td>2</td>\n      <td>1998</td>\n      <td>1998-06-30</td>\n      <td>loan_start</td>\n      <td></td>\n      <td>1</td>\n      <td></td>\n      <td></td>\n      <td></td>\n      <td></td>\n      <td></td>\n      <td></td>\n      <td></td>\n      <td></td>\n      <td></td>\n      <td></td>\n      <td></td>\n      <td>NaN</td>\n      <td>1999.0</td>\n    </tr>\n    <tr>\n      <td>0</td>\n      <td>2</td>\n      <td>1998</td>\n      <td>1998-06-30</td>\n      <td>opening_balance</td>\n      <td>298.0</td>\n      <td></td>\n      <td></td>\n      <td></td>\n      <td>298.0</td>\n      <td></td>\n      <td></td>\n      <td></td>\n      <td></td>\n      <td></td>\n      <td></td>\n      <td></td>\n      <td></td>\n      <td>NaN</td>\n      <td>NaN</td>\n    </tr>\n    <tr>\n      <td>1</td>\n      <td>1</td>\n      <td>1999</td>\n      <td>1999-02-04</td>\n      <td>lodgement</td>\n      <td>298.0</td>\n      <td></td>\n      <td></td>\n      <td></td>\n      <td></td>\n      <td></td>\n      <td></td>\n      <td></td>\n      <td></td>\n      <td></td>\n      <td></td>\n      <td></td>\n      <td></td>\n      <td>NaN</td>\n      <td>NaN</td>\n    </tr>\n    <tr>\n      <td>1</td>\n      <td>1</td>\n      <td>1999</td>\n      <td>1999-06-30</td>\n      <td>interest_accrual</td>\n      <td>298.0</td>\n      <td></td>\n      <td>for period until income year end</td>\n      <td>6.7</td>\n      <td></td>\n      <td>365</td>\n      <td>2294.6</td>\n      <td></td>\n      <td></td>\n      <td></td>\n      <td></td>\n      <td></td>\n      <td></td>\n      <td>NaN</td>\n      <td>NaN</td>\n    </tr>\n    <tr>\n      <td>1</td>\n      <td>1</td>\n      <td>1999</td>\n      <td>1999-06-30</td>\n      <td>myr_check</td>\n      <td></td>\n      <td></td>\n      <td></td>\n      <td></td>\n      <td></td>\n      <td></td>\n      <td></td>\n      <td>0</td>\n      <td>0</td>\n      <td></td>\n      <td></td>\n      <td></td>\n      <td></td>\n      <td>NaN</td>\n      <td>NaN</td>\n    </tr>\n  </tbody>\n</table>"
     },
     "metadata": {},
     "output_type": "display_data"
    },
    {
     "ename": "TypeError",
     "evalue": "unsupported operand type(s) for -: 'NoneType' and 'int'",
     "output_type": "error",
     "traceback": [
      "\u001B[0;31m---------------------------------------------------------------------------\u001B[0m",
      "\u001B[0;31mTypeError\u001B[0m                                 Traceback (most recent call last)",
      "Cell \u001B[0;32mIn[4], line 2\u001B[0m\n\u001B[1;32m      1\u001B[0m \u001B[38;5;28;01mfrom\u001B[39;00m \u001B[38;5;21;01mapp\u001B[39;00m\u001B[38;5;21;01m.\u001B[39;00m\u001B[38;5;21;01mdiv7a\u001B[39;00m \u001B[38;5;28;01mimport\u001B[39;00m \u001B[38;5;241m*\u001B[39m\n\u001B[0;32m----> 2\u001B[0m \u001B[43mdiv7a_from_json\u001B[49m\u001B[43m(\u001B[49m\u001B[43m{\u001B[49m\u001B[38;5;124;43m'\u001B[39;49m\u001B[38;5;124;43mcomputation_income_year\u001B[39;49m\u001B[38;5;124;43m'\u001B[39;49m\u001B[43m:\u001B[49m\u001B[43m \u001B[49m\u001B[38;5;124;43m'\u001B[39;49m\u001B[38;5;124;43m1999\u001B[39;49m\u001B[38;5;124;43m'\u001B[39;49m\u001B[43m,\u001B[49m\u001B[43m \u001B[49m\u001B[38;5;124;43m'\u001B[39;49m\u001B[38;5;124;43mcreation_income_year\u001B[39;49m\u001B[38;5;124;43m'\u001B[39;49m\u001B[43m:\u001B[49m\u001B[43m \u001B[49m\u001B[38;5;124;43m'\u001B[39;49m\u001B[38;5;124;43m1998\u001B[39;49m\u001B[38;5;124;43m'\u001B[39;49m\u001B[43m,\u001B[49m\u001B[43m \u001B[49m\u001B[38;5;124;43m'\u001B[39;49m\u001B[38;5;124;43mlodgement_date\u001B[39;49m\u001B[38;5;124;43m'\u001B[39;49m\u001B[43m:\u001B[49m\u001B[43m \u001B[49m\u001B[38;5;124;43m'\u001B[39;49m\u001B[38;5;124;43m1999-02-04\u001B[39;49m\u001B[38;5;124;43m'\u001B[39;49m\u001B[43m,\u001B[49m\u001B[43m \u001B[49m\u001B[38;5;124;43m'\u001B[39;49m\u001B[38;5;124;43mopening_balance\u001B[39;49m\u001B[38;5;124;43m'\u001B[39;49m\u001B[43m:\u001B[49m\u001B[43m \u001B[49m\u001B[38;5;124;43m'\u001B[39;49m\u001B[38;5;124;43m298\u001B[39;49m\u001B[38;5;124;43m'\u001B[39;49m\u001B[43m,\u001B[49m\u001B[43m \u001B[49m\u001B[38;5;124;43m'\u001B[39;49m\u001B[38;5;124;43mprincipal_amount\u001B[39;49m\u001B[38;5;124;43m'\u001B[39;49m\u001B[43m:\u001B[49m\u001B[43m \u001B[49m\u001B[38;5;241;43m-\u001B[39;49m\u001B[38;5;241;43m1\u001B[39;49m\u001B[43m,\u001B[49m\u001B[43m \u001B[49m\u001B[38;5;124;43m'\u001B[39;49m\u001B[38;5;124;43mrepayments\u001B[39;49m\u001B[38;5;124;43m'\u001B[39;49m\u001B[43m:\u001B[49m\u001B[43m \u001B[49m\u001B[43m[\u001B[49m\u001B[43m]\u001B[49m\u001B[43m,\u001B[49m\u001B[43m \u001B[49m\u001B[38;5;124;43m'\u001B[39;49m\u001B[38;5;124;43mterm\u001B[39;49m\u001B[38;5;124;43m'\u001B[39;49m\u001B[43m:\u001B[49m\u001B[43m \u001B[49m\u001B[38;5;124;43m'\u001B[39;49m\u001B[38;5;124;43m1\u001B[39;49m\u001B[38;5;124;43m'\u001B[39;49m\u001B[43m}\u001B[49m\u001B[43m)\u001B[49m\n",
      "File \u001B[0;32m~/repos/koo5/accounts-assessor/0/accounts-assessor/sources/services/app/div7a.py:51\u001B[0m, in \u001B[0;36mdiv7a_from_json\u001B[0;34m(j)\u001B[0m\n\u001B[1;32m     48\u001B[0m \trecords\u001B[38;5;241m.\u001B[39madd(lodgement(lodgement_date))\n\u001B[1;32m     50\u001B[0m log\u001B[38;5;241m.\u001B[39mwarn(records)\n\u001B[0;32m---> 51\u001B[0m records \u001B[38;5;241m=\u001B[39m \u001B[43mdiv7a\u001B[49m\u001B[43m(\u001B[49m\u001B[43mrecords\u001B[49m\u001B[43m)\u001B[49m[\u001B[38;5;241m-\u001B[39m\u001B[38;5;241m1\u001B[39m]\n\u001B[1;32m     53\u001B[0m myr_info \u001B[38;5;241m=\u001B[39m get_myr_check_of_income_year(records, ciy)\u001B[38;5;241m.\u001B[39minfo\n\u001B[1;32m     55\u001B[0m response \u001B[38;5;241m=\u001B[39m \u001B[38;5;28mdict\u001B[39m(\n\u001B[1;32m     56\u001B[0m \tincome_year  \u001B[38;5;241m=\u001B[39mciy,\n\u001B[1;32m     57\u001B[0m \topening_balance \u001B[38;5;241m=\u001B[39m loan_agr_year_opening_balance(records, ciy),\n\u001B[0;32m   (...)\u001B[0m\n\u001B[1;32m     64\u001B[0m \tclosing_balance \u001B[38;5;241m=\u001B[39m closing_balance(records, ciy),\n\u001B[1;32m     65\u001B[0m )\n",
      "File \u001B[0;32m~/repos/koo5/accounts-assessor/0/accounts-assessor/sources/services/app/div7a.py:86\u001B[0m, in \u001B[0;36mdiv7a\u001B[0;34m(records)\u001B[0m\n\u001B[1;32m     84\u001B[0m step(tables, with_myr_checks)\n\u001B[1;32m     85\u001B[0m \u001B[38;5;66;03m# was minimum yearly repayment met?\u001B[39;00m\n\u001B[0;32m---> 86\u001B[0m \u001B[43mstep\u001B[49m\u001B[43m(\u001B[49m\u001B[43mtables\u001B[49m\u001B[43m,\u001B[49m\u001B[43m \u001B[49m\u001B[43mevaluate_myr_checks\u001B[49m\u001B[43m)\u001B[49m\n\u001B[1;32m     87\u001B[0m \u001B[38;5;66;03m# one final check\u001B[39;00m\n\u001B[1;32m     88\u001B[0m check_invariants(tables[\u001B[38;5;241m-\u001B[39m\u001B[38;5;241m1\u001B[39m])\n",
      "File \u001B[0;32m~/repos/koo5/accounts-assessor/0/accounts-assessor/sources/services/app/div7a.py:96\u001B[0m, in \u001B[0;36mstep\u001B[0;34m(tables, f)\u001B[0m\n\u001B[1;32m     94\u001B[0m \u001B[38;5;66;03m# a sliced SortedList is a list, duh. \u001B[39;00m\n\u001B[1;32m     95\u001B[0m t \u001B[38;5;241m=\u001B[39m SortedList(tables[\u001B[38;5;241m-\u001B[39m\u001B[38;5;241m1\u001B[39m][:])\n\u001B[0;32m---> 96\u001B[0m \u001B[43mf\u001B[49m\u001B[43m(\u001B[49m\u001B[43mt\u001B[49m\u001B[43m)\u001B[49m\n\u001B[1;32m     97\u001B[0m tables\u001B[38;5;241m.\u001B[39mappend(t)\n\u001B[1;32m     99\u001B[0m \u001B[38;5;28;01mfor\u001B[39;00m r \u001B[38;5;129;01min\u001B[39;00m t:\n",
      "File \u001B[0;32m~/repos/koo5/accounts-assessor/0/accounts-assessor/sources/services/app/div7a_steps.py:155\u001B[0m, in \u001B[0;36mevaluate_myr_checks\u001B[0;34m(records)\u001B[0m\n\u001B[1;32m    152\u001B[0m \u001B[38;5;28;01mif\u001B[39;00m r\u001B[38;5;241m.\u001B[39m\u001B[38;5;18m__class__\u001B[39m \u001B[38;5;241m==\u001B[39m myr_check:\n\u001B[1;32m    154\u001B[0m \t\u001B[38;5;28;01mif\u001B[39;00m r\u001B[38;5;241m.\u001B[39mincome_year \u001B[38;5;241m==\u001B[39m loan_start\u001B[38;5;241m.\u001B[39mincome_year \u001B[38;5;241m+\u001B[39m \u001B[38;5;241m1\u001B[39m:\n\u001B[0;32m--> 155\u001B[0m \t\tprevious_income_year_final_balance \u001B[38;5;241m=\u001B[39m \u001B[43mget_loan_start_year_final_balance_for_myr_calc\u001B[49m\u001B[43m(\u001B[49m\u001B[43mrecords\u001B[49m\u001B[43m)\u001B[49m\n\u001B[1;32m    156\u001B[0m \t\u001B[38;5;28;01melse\u001B[39;00m:\n\u001B[1;32m    157\u001B[0m \t\tprevious_income_year_final_balance \u001B[38;5;241m=\u001B[39m get_final_balance_of_previous_income_year(records, i)\n",
      "File \u001B[0;32m~/repos/koo5/accounts-assessor/0/accounts-assessor/sources/services/app/div7a_impl.py:44\u001B[0m, in \u001B[0;36mget_loan_start_year_final_balance_for_myr_calc\u001B[0;34m(records)\u001B[0m\n\u001B[1;32m     42\u001B[0m loan_start \u001B[38;5;241m=\u001B[39m get_loan_start_record(records)\n\u001B[1;32m     43\u001B[0m repaid_in_first_year_before_lodgement_day \u001B[38;5;241m=\u001B[39m \u001B[38;5;28msum\u001B[39m([r\u001B[38;5;241m.\u001B[39minfo[\u001B[38;5;124m'\u001B[39m\u001B[38;5;124mamount\u001B[39m\u001B[38;5;124m'\u001B[39m] \u001B[38;5;28;01mfor\u001B[39;00m r \u001B[38;5;129;01min\u001B[39;00m repayments(records) \u001B[38;5;28;01mif\u001B[39;00m r\u001B[38;5;241m.\u001B[39minfo[\u001B[38;5;124m'\u001B[39m\u001B[38;5;124mcounts_towards_initial_balance\u001B[39m\u001B[38;5;124m'\u001B[39m]])\n\u001B[0;32m---> 44\u001B[0m \u001B[38;5;28;01mreturn\u001B[39;00m \u001B[43mloan_start\u001B[49m\u001B[38;5;241;43m.\u001B[39;49m\u001B[43minfo\u001B[49m\u001B[43m[\u001B[49m\u001B[38;5;124;43m'\u001B[39;49m\u001B[38;5;124;43mprincipal\u001B[39;49m\u001B[38;5;124;43m'\u001B[39;49m\u001B[43m]\u001B[49m\u001B[43m \u001B[49m\u001B[38;5;241;43m-\u001B[39;49m\u001B[43m \u001B[49m\u001B[43mrepaid_in_first_year_before_lodgement_day\u001B[49m\n",
      "\u001B[0;31mTypeError\u001B[0m: unsupported operand type(s) for -: 'NoneType' and 'int'"
     ]
    }
   ],
   "source": [
    "from app.div7a import *\n",
    "div7a_from_json({'computation_income_year': '1999', 'creation_income_year': '1998', 'lodgement_date': '1999-02-04', 'opening_balance': '298', 'principal_amount': -1, 'repayments': [], 'term': '1'})\n",
    "\n"
   ],
   "metadata": {
    "collapsed": false,
    "ExecuteTime": {
     "end_time": "2023-10-21T19:24:12.797093772Z",
     "start_time": "2023-10-21T19:24:12.248330849Z"
    }
   },
   "id": "72160ad69bfdef21"
  }
 ],
 "metadata": {
  "kernelspec": {
   "display_name": "Python 3",
   "language": "python",
   "name": "python3"
  },
  "language_info": {
   "codemirror_mode": {
    "name": "ipython",
    "version": 2
   },
   "file_extension": ".py",
   "mimetype": "text/x-python",
   "name": "python",
   "nbconvert_exporter": "python",
   "pygments_lexer": "ipython2",
   "version": "2.7.6"
  }
 },
 "nbformat": 4,
 "nbformat_minor": 5
}
