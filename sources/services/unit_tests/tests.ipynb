{
 "cells": [
  {
   "cell_type": "code",
   "execution_count": 4,
   "id": "initial_id",
   "metadata": {
    "collapsed": true,
    "ExecuteTime": {
     "end_time": "2023-10-13T09:38:28.211708836Z",
     "start_time": "2023-10-13T09:38:28.166790226Z"
    }
   },
   "outputs": [
    {
     "ename": "UnboundLocalError",
     "evalue": "local variable 'lodgement_day' referenced before assignment",
     "output_type": "error",
     "traceback": [
      "\u001B[0;31m---------------------------------------------------------------------------\u001B[0m",
      "\u001B[0;31mUnboundLocalError\u001B[0m                         Traceback (most recent call last)",
      "Cell \u001B[0;32mIn[4], line 4\u001B[0m\n\u001B[1;32m      2\u001B[0m \u001B[38;5;28;01mimport\u001B[39;00m \u001B[38;5;21;01msys\u001B[39;00m;sys\u001B[38;5;241m.\u001B[39mpath\u001B[38;5;241m.\u001B[39mappend(\u001B[38;5;124m\"\u001B[39m\u001B[38;5;124m../app\u001B[39m\u001B[38;5;124m\"\u001B[39m)\n\u001B[1;32m      3\u001B[0m \u001B[38;5;28;01mfrom\u001B[39;00m \u001B[38;5;21;01mdiv7a_tests\u001B[39;00m \u001B[38;5;28;01mimport\u001B[39;00m \u001B[38;5;241m*\u001B[39m\n\u001B[0;32m----> 4\u001B[0m \u001B[43mtest1\u001B[49m\u001B[43m(\u001B[49m\u001B[43m)\u001B[49m\n",
      "File \u001B[0;32m~/repos/koo5/accounts-assessor/0/accounts-assessor/sources/services/unit_tests/../app/div7a_tests.py:4\u001B[0m, in \u001B[0;36mtest1\u001B[0;34m()\u001B[0m\n\u001B[1;32m      3\u001B[0m \u001B[38;5;28;01mdef\u001B[39;00m \u001B[38;5;21mtest1\u001B[39m():\n\u001B[0;32m----> 4\u001B[0m \t\u001B[38;5;28;01mreturn\u001B[39;00m \u001B[43mdiv7a\u001B[49m\u001B[43m(\u001B[49m\u001B[43m[\u001B[49m\n\u001B[1;32m      5\u001B[0m \u001B[43m\t\t\u001B[49m\u001B[43mr\u001B[49m\u001B[43m(\u001B[49m\u001B[43mdate\u001B[49m\u001B[43m(\u001B[49m\u001B[38;5;241;43m2014\u001B[39;49m\u001B[43m,\u001B[49m\u001B[38;5;241;43m6\u001B[39;49m\u001B[43m,\u001B[49m\u001B[38;5;241;43m30\u001B[39;49m\u001B[43m)\u001B[49m\u001B[43m,\u001B[49m\u001B[43m \u001B[49m\u001B[43mloan_start\u001B[49m\u001B[43m,\u001B[49m\u001B[43m \u001B[49m\u001B[43m{\u001B[49m\u001B[38;5;124;43m'\u001B[39;49m\u001B[38;5;124;43mterm\u001B[39;49m\u001B[38;5;124;43m'\u001B[39;49m\u001B[43m:\u001B[49m\u001B[38;5;241;43m7\u001B[39;49m\u001B[43m}\u001B[49m\u001B[43m)\u001B[49m\u001B[43m,\u001B[49m\n\u001B[1;32m      6\u001B[0m \u001B[43m  \t\t\u001B[49m\u001B[43mr\u001B[49m\u001B[43m(\u001B[49m\u001B[43mdate\u001B[49m\u001B[43m(\u001B[49m\u001B[38;5;241;43m2019\u001B[39;49m\u001B[43m,\u001B[49m\u001B[38;5;241;43m6\u001B[39;49m\u001B[43m,\u001B[49m\u001B[38;5;241;43m30\u001B[39;49m\u001B[43m)\u001B[49m\u001B[43m,\u001B[49m\u001B[43m \u001B[49m\u001B[43mopening_balance\u001B[49m\u001B[43m,\u001B[49m\u001B[43m \u001B[49m\u001B[43m{\u001B[49m\u001B[38;5;124;43m'\u001B[39;49m\u001B[38;5;124;43mamount\u001B[39;49m\u001B[38;5;124;43m'\u001B[39;49m\u001B[43m:\u001B[49m\u001B[38;5;241;43m1000\u001B[39;49m\u001B[43m}\u001B[49m\u001B[43m)\u001B[49m\u001B[43m,\u001B[49m\n\u001B[1;32m      7\u001B[0m \u001B[43m\t\u001B[49m\u001B[43m]\u001B[49m\u001B[43m)\u001B[49m\n",
      "File \u001B[0;32m~/repos/koo5/accounts-assessor/0/accounts-assessor/sources/services/unit_tests/../app/div7a.py:46\u001B[0m, in \u001B[0;36mdiv7a\u001B[0;34m(records)\u001B[0m\n\u001B[1;32m     43\u001B[0m tables\u001B[38;5;241m.\u001B[39mappend(records)\n\u001B[1;32m     45\u001B[0m records \u001B[38;5;241m=\u001B[39m with_balance_and_accrual(records)\n\u001B[0;32m---> 46\u001B[0m \u001B[43mannotate_repayments_with_myr_relevance\u001B[49m\u001B[43m(\u001B[49m\u001B[43mrecords\u001B[49m\u001B[43m)\u001B[49m\n\u001B[1;32m     47\u001B[0m tables\u001B[38;5;241m.\u001B[39mappend(records)\n\u001B[1;32m     49\u001B[0m records \u001B[38;5;241m=\u001B[39m add_myr_checks(records)\n",
      "File \u001B[0;32m~/repos/koo5/accounts-assessor/0/accounts-assessor/sources/services/unit_tests/../app/div7a_impl.py:203\u001B[0m, in \u001B[0;36mannotate_repayments_with_myr_relevance\u001B[0;34m(records)\u001B[0m\n\u001B[1;32m    202\u001B[0m \u001B[38;5;28;01mdef\u001B[39;00m \u001B[38;5;21mannotate_repayments_with_myr_relevance\u001B[39m(records):\n\u001B[0;32m--> 203\u001B[0m \tlodgement_day \u001B[38;5;241m=\u001B[39m \u001B[43mlodgement_day\u001B[49m(records)\n\u001B[1;32m    205\u001B[0m \t\u001B[38;5;28;01mfor\u001B[39;00m r \u001B[38;5;129;01min\u001B[39;00m repayments(records):\n\u001B[1;32m    206\u001B[0m \t\t\u001B[38;5;28;01mif\u001B[39;00m r\u001B[38;5;241m.\u001B[39mdate\u001B[38;5;241m.\u001B[39mincome_year \u001B[38;5;241m==\u001B[39m loan_start\u001B[38;5;241m.\u001B[39mincome_year \u001B[38;5;241m+\u001B[39m \u001B[38;5;241m1\u001B[39m:\n",
      "\u001B[0;31mUnboundLocalError\u001B[0m: local variable 'lodgement_day' referenced before assignment"
     ]
    }
   ],
   "source": [
    "%autoreload 2\n",
    "import sys;sys.path.append(\"../app\")\n",
    "from div7a_tests import *\n",
    "test1()\n"
   ]
  }
 ],
 "metadata": {
  "kernelspec": {
   "display_name": "Python 3",
   "language": "python",
   "name": "python3"
  },
  "language_info": {
   "codemirror_mode": {
    "name": "ipython",
    "version": 2
   },
   "file_extension": ".py",
   "mimetype": "text/x-python",
   "name": "python",
   "nbconvert_exporter": "python",
   "pygments_lexer": "ipython2",
   "version": "2.7.6"
  }
 },
 "nbformat": 4,
 "nbformat_minor": 5
}
