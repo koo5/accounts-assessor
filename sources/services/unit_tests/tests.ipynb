{
 "cells": [
  {
   "cell_type": "code",
   "execution_count": 1,
   "id": "initial_id",
   "metadata": {
    "collapsed": true,
    "ExecuteTime": {
     "end_time": "2023-10-12T23:07:43.107105514Z",
     "start_time": "2023-10-12T23:07:43.103233582Z"
    }
   },
   "outputs": [
    {
     "data": {
      "text/plain": "[2014-06-30:loan_start({'term': 7}),\n 2019-06-30:opening_balance({'amount': 1000})]"
     },
     "execution_count": 1,
     "metadata": {},
     "output_type": "execute_result"
    }
   ],
   "source": [
    "import sys;sys.path.append(\"../app\")\n",
    "from div7a_tests import *\n",
    "test1()['input']"
   ]
  }
 ],
 "metadata": {
  "kernelspec": {
   "display_name": "Python 3",
   "language": "python",
   "name": "python3"
  },
  "language_info": {
   "codemirror_mode": {
    "name": "ipython",
    "version": 2
   },
   "file_extension": ".py",
   "mimetype": "text/x-python",
   "name": "python",
   "nbconvert_exporter": "python",
   "pygments_lexer": "ipython2",
   "version": "2.7.6"
  }
 },
 "nbformat": 4,
 "nbformat_minor": 5
}
