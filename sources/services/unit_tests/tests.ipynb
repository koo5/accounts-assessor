{
 "cells": [
  {
   "cell_type": "code",
   "execution_count": 4,
   "outputs": [
    {
     "name": "stdout",
     "output_type": "stream",
     "text": [
      "The autoreload extension is already loaded. To reload it, use:\n",
      "  %reload_ext autoreload\n"
     ]
    }
   ],
   "source": [
    "%load_ext autoreload"
   ],
   "metadata": {
    "collapsed": false,
    "ExecuteTime": {
     "end_time": "2023-10-18T01:46:35.130529837Z",
     "start_time": "2023-10-18T01:46:35.083398900Z"
    }
   },
   "id": "52a72d4fb822a89f"
  },
  {
   "cell_type": "code",
   "execution_count": 5,
   "outputs": [],
   "source": [
    "%autoreload 2"
   ],
   "metadata": {
    "collapsed": false,
    "ExecuteTime": {
     "end_time": "2023-10-18T01:46:35.130695748Z",
     "start_time": "2023-10-18T01:46:35.129166561Z"
    }
   },
   "id": "41aed043447a802e"
  },
  {
   "cell_type": "code",
   "execution_count": 6,
   "outputs": [
    {
     "name": "stdout",
     "output_type": "stream",
     "text": [
      "input\n"
     ]
    },
    {
     "data": {
      "text/plain": "<IPython.core.display.HTML object>",
      "text/html": "<table border=\"1\" class=\"dataframe\">\n  <thead>\n    <tr style=\"text-align: right;\">\n      <th>rem</th>\n      <th>year</th>\n      <th>iy</th>\n      <th>date</th>\n      <th>type</th>\n      <th>final_balance</th>\n      <th>term</th>\n      <th>note</th>\n      <th>rate</th>\n      <th>amount</th>\n      <th>days</th>\n      <th>total_repaid_for_myr_calc</th>\n      <th>total_repaid</th>\n      <th>myr_required</th>\n      <th>shortfall</th>\n      <th>excess</th>\n      <th>counts_towards_myr_principal</th>\n    </tr>\n  </thead>\n  <tbody>\n    <tr>\n      <td>8</td>\n      <td>0</td>\n      <td>2014</td>\n      <td>2014-06-30</td>\n      <td>loan_start</td>\n      <td></td>\n      <td>7</td>\n      <td></td>\n      <td></td>\n      <td></td>\n      <td></td>\n      <td></td>\n      <td></td>\n      <td></td>\n      <td></td>\n      <td></td>\n      <td></td>\n    </tr>\n    <tr>\n      <td>3</td>\n      <td>5</td>\n      <td>2019</td>\n      <td>2019-06-30</td>\n      <td>opening_balance</td>\n      <td></td>\n      <td></td>\n      <td></td>\n      <td></td>\n      <td>1000</td>\n      <td></td>\n      <td></td>\n      <td></td>\n      <td></td>\n      <td></td>\n      <td></td>\n      <td></td>\n    </tr>\n  </tbody>\n</table>"
     },
     "metadata": {},
     "output_type": "display_data"
    },
    {
     "name": "stdout",
     "output_type": "stream",
     "text": [
      "insert_interest_accrual_records\n"
     ]
    },
    {
     "data": {
      "text/plain": "<IPython.core.display.HTML object>",
      "text/html": "<table border=\"1\" class=\"dataframe\">\n  <thead>\n    <tr style=\"text-align: right;\">\n      <th>rem</th>\n      <th>year</th>\n      <th>iy</th>\n      <th>date</th>\n      <th>type</th>\n      <th>final_balance</th>\n      <th>term</th>\n      <th>note</th>\n      <th>rate</th>\n      <th>amount</th>\n      <th>days</th>\n      <th>total_repaid_for_myr_calc</th>\n      <th>total_repaid</th>\n      <th>myr_required</th>\n      <th>shortfall</th>\n      <th>excess</th>\n      <th>counts_towards_myr_principal</th>\n    </tr>\n  </thead>\n  <tbody>\n    <tr>\n      <td>8</td>\n      <td>0</td>\n      <td>2014</td>\n      <td>2014-06-30</td>\n      <td>loan_start</td>\n      <td></td>\n      <td>7</td>\n      <td></td>\n      <td></td>\n      <td></td>\n      <td></td>\n      <td></td>\n      <td></td>\n      <td></td>\n      <td></td>\n      <td></td>\n      <td></td>\n    </tr>\n    <tr>\n      <td>7</td>\n      <td>1</td>\n      <td>2015</td>\n      <td>2015-06-30</td>\n      <td>interest_accrual</td>\n      <td></td>\n      <td></td>\n      <td>for period until income year end</td>\n      <td>5.95</td>\n      <td></td>\n      <td></td>\n      <td></td>\n      <td></td>\n      <td></td>\n      <td></td>\n      <td></td>\n      <td></td>\n    </tr>\n    <tr>\n      <td>6</td>\n      <td>2</td>\n      <td>2016</td>\n      <td>2016-06-30</td>\n      <td>interest_accrual</td>\n      <td></td>\n      <td></td>\n      <td>for period until income year end</td>\n      <td>5.45</td>\n      <td></td>\n      <td></td>\n      <td></td>\n      <td></td>\n      <td></td>\n      <td></td>\n      <td></td>\n      <td></td>\n    </tr>\n    <tr>\n      <td>5</td>\n      <td>3</td>\n      <td>2017</td>\n      <td>2017-06-30</td>\n      <td>interest_accrual</td>\n      <td></td>\n      <td></td>\n      <td>for period until income year end</td>\n      <td>5.4</td>\n      <td></td>\n      <td></td>\n      <td></td>\n      <td></td>\n      <td></td>\n      <td></td>\n      <td></td>\n      <td></td>\n    </tr>\n    <tr>\n      <td>4</td>\n      <td>4</td>\n      <td>2018</td>\n      <td>2018-06-30</td>\n      <td>interest_accrual</td>\n      <td></td>\n      <td></td>\n      <td>for period until income year end</td>\n      <td>5.3</td>\n      <td></td>\n      <td></td>\n      <td></td>\n      <td></td>\n      <td></td>\n      <td></td>\n      <td></td>\n      <td></td>\n    </tr>\n    <tr>\n      <td>3</td>\n      <td>5</td>\n      <td>2019</td>\n      <td>2019-06-30</td>\n      <td>interest_accrual</td>\n      <td></td>\n      <td></td>\n      <td>for period until income year end</td>\n      <td>5.2</td>\n      <td></td>\n      <td></td>\n      <td></td>\n      <td></td>\n      <td></td>\n      <td></td>\n      <td></td>\n      <td></td>\n    </tr>\n    <tr>\n      <td>3</td>\n      <td>5</td>\n      <td>2019</td>\n      <td>2019-06-30</td>\n      <td>opening_balance</td>\n      <td></td>\n      <td></td>\n      <td></td>\n      <td></td>\n      <td>1000</td>\n      <td></td>\n      <td></td>\n      <td></td>\n      <td></td>\n      <td></td>\n      <td></td>\n      <td></td>\n    </tr>\n    <tr>\n      <td>2</td>\n      <td>6</td>\n      <td>2020</td>\n      <td>2020-06-30</td>\n      <td>interest_accrual</td>\n      <td></td>\n      <td></td>\n      <td>for period until income year end</td>\n      <td>5.37</td>\n      <td></td>\n      <td></td>\n      <td></td>\n      <td></td>\n      <td></td>\n      <td></td>\n      <td></td>\n      <td></td>\n    </tr>\n    <tr>\n      <td>1</td>\n      <td>7</td>\n      <td>2021</td>\n      <td>2021-06-30</td>\n      <td>interest_accrual</td>\n      <td></td>\n      <td></td>\n      <td>for period until income year end</td>\n      <td>4.52</td>\n      <td></td>\n      <td></td>\n      <td></td>\n      <td></td>\n      <td></td>\n      <td></td>\n      <td></td>\n      <td></td>\n    </tr>\n    <tr>\n      <td>0</td>\n      <td>8</td>\n      <td>2022</td>\n      <td>2022-06-30</td>\n      <td>interest_accrual</td>\n      <td></td>\n      <td></td>\n      <td>for period until income year end</td>\n      <td>4.52</td>\n      <td></td>\n      <td></td>\n      <td></td>\n      <td></td>\n      <td></td>\n      <td></td>\n      <td></td>\n      <td></td>\n    </tr>\n  </tbody>\n</table>"
     },
     "metadata": {},
     "output_type": "display_data"
    },
    {
     "name": "stdout",
     "output_type": "stream",
     "text": [
      "with_interest_accrual_days\n"
     ]
    },
    {
     "data": {
      "text/plain": "<IPython.core.display.HTML object>",
      "text/html": "<table border=\"1\" class=\"dataframe\">\n  <thead>\n    <tr style=\"text-align: right;\">\n      <th>rem</th>\n      <th>year</th>\n      <th>iy</th>\n      <th>date</th>\n      <th>type</th>\n      <th>final_balance</th>\n      <th>term</th>\n      <th>note</th>\n      <th>rate</th>\n      <th>amount</th>\n      <th>days</th>\n      <th>total_repaid_for_myr_calc</th>\n      <th>total_repaid</th>\n      <th>myr_required</th>\n      <th>shortfall</th>\n      <th>excess</th>\n      <th>counts_towards_myr_principal</th>\n    </tr>\n  </thead>\n  <tbody>\n    <tr>\n      <td>8</td>\n      <td>0</td>\n      <td>2014</td>\n      <td>2014-06-30</td>\n      <td>loan_start</td>\n      <td></td>\n      <td>7</td>\n      <td></td>\n      <td></td>\n      <td></td>\n      <td></td>\n      <td></td>\n      <td></td>\n      <td></td>\n      <td></td>\n      <td></td>\n      <td></td>\n    </tr>\n    <tr>\n      <td>7</td>\n      <td>1</td>\n      <td>2015</td>\n      <td>2015-06-30</td>\n      <td>interest_accrual</td>\n      <td></td>\n      <td></td>\n      <td>for period until income year end</td>\n      <td>5.95</td>\n      <td></td>\n      <td>365</td>\n      <td></td>\n      <td></td>\n      <td></td>\n      <td></td>\n      <td></td>\n      <td></td>\n    </tr>\n    <tr>\n      <td>6</td>\n      <td>2</td>\n      <td>2016</td>\n      <td>2016-06-30</td>\n      <td>interest_accrual</td>\n      <td></td>\n      <td></td>\n      <td>for period until income year end</td>\n      <td>5.45</td>\n      <td></td>\n      <td>366</td>\n      <td></td>\n      <td></td>\n      <td></td>\n      <td></td>\n      <td></td>\n      <td></td>\n    </tr>\n    <tr>\n      <td>5</td>\n      <td>3</td>\n      <td>2017</td>\n      <td>2017-06-30</td>\n      <td>interest_accrual</td>\n      <td></td>\n      <td></td>\n      <td>for period until income year end</td>\n      <td>5.4</td>\n      <td></td>\n      <td>365</td>\n      <td></td>\n      <td></td>\n      <td></td>\n      <td></td>\n      <td></td>\n      <td></td>\n    </tr>\n    <tr>\n      <td>4</td>\n      <td>4</td>\n      <td>2018</td>\n      <td>2018-06-30</td>\n      <td>interest_accrual</td>\n      <td></td>\n      <td></td>\n      <td>for period until income year end</td>\n      <td>5.3</td>\n      <td></td>\n      <td>365</td>\n      <td></td>\n      <td></td>\n      <td></td>\n      <td></td>\n      <td></td>\n      <td></td>\n    </tr>\n    <tr>\n      <td>3</td>\n      <td>5</td>\n      <td>2019</td>\n      <td>2019-06-30</td>\n      <td>interest_accrual</td>\n      <td></td>\n      <td></td>\n      <td>for period until income year end</td>\n      <td>5.2</td>\n      <td></td>\n      <td>365</td>\n      <td></td>\n      <td></td>\n      <td></td>\n      <td></td>\n      <td></td>\n      <td></td>\n    </tr>\n    <tr>\n      <td>3</td>\n      <td>5</td>\n      <td>2019</td>\n      <td>2019-06-30</td>\n      <td>opening_balance</td>\n      <td></td>\n      <td></td>\n      <td></td>\n      <td></td>\n      <td>1000</td>\n      <td></td>\n      <td></td>\n      <td></td>\n      <td></td>\n      <td></td>\n      <td></td>\n      <td></td>\n    </tr>\n    <tr>\n      <td>2</td>\n      <td>6</td>\n      <td>2020</td>\n      <td>2020-06-30</td>\n      <td>interest_accrual</td>\n      <td></td>\n      <td></td>\n      <td>for period until income year end</td>\n      <td>5.37</td>\n      <td></td>\n      <td>366</td>\n      <td></td>\n      <td></td>\n      <td></td>\n      <td></td>\n      <td></td>\n      <td></td>\n    </tr>\n    <tr>\n      <td>1</td>\n      <td>7</td>\n      <td>2021</td>\n      <td>2021-06-30</td>\n      <td>interest_accrual</td>\n      <td></td>\n      <td></td>\n      <td>for period until income year end</td>\n      <td>4.52</td>\n      <td></td>\n      <td>365</td>\n      <td></td>\n      <td></td>\n      <td></td>\n      <td></td>\n      <td></td>\n      <td></td>\n    </tr>\n    <tr>\n      <td>0</td>\n      <td>8</td>\n      <td>2022</td>\n      <td>2022-06-30</td>\n      <td>interest_accrual</td>\n      <td></td>\n      <td></td>\n      <td>for period until income year end</td>\n      <td>4.52</td>\n      <td></td>\n      <td>365</td>\n      <td></td>\n      <td></td>\n      <td></td>\n      <td></td>\n      <td></td>\n      <td></td>\n    </tr>\n  </tbody>\n</table>"
     },
     "metadata": {},
     "output_type": "display_data"
    },
    {
     "name": "stdout",
     "output_type": "stream",
     "text": [
      "with_balance_and_accrual\n"
     ]
    },
    {
     "data": {
      "text/plain": "<IPython.core.display.HTML object>",
      "text/html": "<table border=\"1\" class=\"dataframe\">\n  <thead>\n    <tr style=\"text-align: right;\">\n      <th>rem</th>\n      <th>year</th>\n      <th>iy</th>\n      <th>date</th>\n      <th>type</th>\n      <th>final_balance</th>\n      <th>term</th>\n      <th>note</th>\n      <th>rate</th>\n      <th>amount</th>\n      <th>days</th>\n      <th>total_repaid_for_myr_calc</th>\n      <th>total_repaid</th>\n      <th>myr_required</th>\n      <th>shortfall</th>\n      <th>excess</th>\n      <th>counts_towards_myr_principal</th>\n    </tr>\n  </thead>\n  <tbody>\n    <tr>\n      <td>8</td>\n      <td>0</td>\n      <td>2014</td>\n      <td>2014-06-30</td>\n      <td>loan_start</td>\n      <td></td>\n      <td>7</td>\n      <td></td>\n      <td></td>\n      <td></td>\n      <td></td>\n      <td></td>\n      <td></td>\n      <td></td>\n      <td></td>\n      <td></td>\n      <td></td>\n    </tr>\n    <tr>\n      <td>7</td>\n      <td>1</td>\n      <td>2015</td>\n      <td>2015-06-30</td>\n      <td>interest_accrual</td>\n      <td></td>\n      <td></td>\n      <td>for period until income year end</td>\n      <td>5.95</td>\n      <td></td>\n      <td>365</td>\n      <td></td>\n      <td></td>\n      <td></td>\n      <td></td>\n      <td></td>\n      <td></td>\n    </tr>\n    <tr>\n      <td>6</td>\n      <td>2</td>\n      <td>2016</td>\n      <td>2016-06-30</td>\n      <td>interest_accrual</td>\n      <td></td>\n      <td></td>\n      <td>for period until income year end</td>\n      <td>5.45</td>\n      <td></td>\n      <td>366</td>\n      <td></td>\n      <td></td>\n      <td></td>\n      <td></td>\n      <td></td>\n      <td></td>\n    </tr>\n    <tr>\n      <td>5</td>\n      <td>3</td>\n      <td>2017</td>\n      <td>2017-06-30</td>\n      <td>interest_accrual</td>\n      <td></td>\n      <td></td>\n      <td>for period until income year end</td>\n      <td>5.4</td>\n      <td></td>\n      <td>365</td>\n      <td></td>\n      <td></td>\n      <td></td>\n      <td></td>\n      <td></td>\n      <td></td>\n    </tr>\n    <tr>\n      <td>4</td>\n      <td>4</td>\n      <td>2018</td>\n      <td>2018-06-30</td>\n      <td>interest_accrual</td>\n      <td></td>\n      <td></td>\n      <td>for period until income year end</td>\n      <td>5.3</td>\n      <td></td>\n      <td>365</td>\n      <td></td>\n      <td></td>\n      <td></td>\n      <td></td>\n      <td></td>\n      <td></td>\n    </tr>\n    <tr>\n      <td>3</td>\n      <td>5</td>\n      <td>2019</td>\n      <td>2019-06-30</td>\n      <td>interest_accrual</td>\n      <td></td>\n      <td></td>\n      <td>for period until income year end</td>\n      <td>5.2</td>\n      <td></td>\n      <td>365</td>\n      <td></td>\n      <td></td>\n      <td></td>\n      <td></td>\n      <td></td>\n      <td></td>\n    </tr>\n    <tr>\n      <td>3</td>\n      <td>5</td>\n      <td>2019</td>\n      <td>2019-06-30</td>\n      <td>opening_balance</td>\n      <td>1000</td>\n      <td></td>\n      <td></td>\n      <td></td>\n      <td>1000</td>\n      <td></td>\n      <td></td>\n      <td></td>\n      <td></td>\n      <td></td>\n      <td></td>\n      <td></td>\n    </tr>\n    <tr>\n      <td>2</td>\n      <td>6</td>\n      <td>2020</td>\n      <td>2020-06-30</td>\n      <td>interest_accrual</td>\n      <td>6384.712329</td>\n      <td></td>\n      <td>for period until income year end</td>\n      <td>5.37</td>\n      <td></td>\n      <td>366</td>\n      <td></td>\n      <td></td>\n      <td></td>\n      <td></td>\n      <td></td>\n      <td></td>\n    </tr>\n    <tr>\n      <td>1</td>\n      <td>7</td>\n      <td>2021</td>\n      <td>2021-06-30</td>\n      <td>interest_accrual</td>\n      <td>35243.612055</td>\n      <td></td>\n      <td>for period until income year end</td>\n      <td>4.52</td>\n      <td></td>\n      <td>365</td>\n      <td></td>\n      <td></td>\n      <td></td>\n      <td></td>\n      <td></td>\n      <td></td>\n    </tr>\n    <tr>\n      <td>0</td>\n      <td>8</td>\n      <td>2022</td>\n      <td>2022-06-30</td>\n      <td>interest_accrual</td>\n      <td>194544.738542</td>\n      <td></td>\n      <td>for period until income year end</td>\n      <td>4.52</td>\n      <td></td>\n      <td>365</td>\n      <td></td>\n      <td></td>\n      <td></td>\n      <td></td>\n      <td></td>\n      <td></td>\n    </tr>\n  </tbody>\n</table>"
     },
     "metadata": {},
     "output_type": "display_data"
    },
    {
     "name": "stdout",
     "output_type": "stream",
     "text": [
      "annotate_repayments_with_myr_relevance\n"
     ]
    },
    {
     "data": {
      "text/plain": "<IPython.core.display.HTML object>",
      "text/html": "<table border=\"1\" class=\"dataframe\">\n  <thead>\n    <tr style=\"text-align: right;\">\n      <th>rem</th>\n      <th>year</th>\n      <th>iy</th>\n      <th>date</th>\n      <th>type</th>\n      <th>final_balance</th>\n      <th>term</th>\n      <th>note</th>\n      <th>rate</th>\n      <th>amount</th>\n      <th>days</th>\n      <th>total_repaid_for_myr_calc</th>\n      <th>total_repaid</th>\n      <th>myr_required</th>\n      <th>shortfall</th>\n      <th>excess</th>\n      <th>counts_towards_myr_principal</th>\n    </tr>\n  </thead>\n  <tbody>\n    <tr>\n      <td>8</td>\n      <td>0</td>\n      <td>2014</td>\n      <td>2014-06-30</td>\n      <td>loan_start</td>\n      <td></td>\n      <td>7</td>\n      <td></td>\n      <td></td>\n      <td></td>\n      <td></td>\n      <td></td>\n      <td></td>\n      <td></td>\n      <td></td>\n      <td></td>\n      <td></td>\n    </tr>\n    <tr>\n      <td>7</td>\n      <td>1</td>\n      <td>2015</td>\n      <td>2015-06-30</td>\n      <td>interest_accrual</td>\n      <td></td>\n      <td></td>\n      <td>for period until income year end</td>\n      <td>5.95</td>\n      <td></td>\n      <td>365</td>\n      <td></td>\n      <td></td>\n      <td></td>\n      <td></td>\n      <td></td>\n      <td></td>\n    </tr>\n    <tr>\n      <td>6</td>\n      <td>2</td>\n      <td>2016</td>\n      <td>2016-06-30</td>\n      <td>interest_accrual</td>\n      <td></td>\n      <td></td>\n      <td>for period until income year end</td>\n      <td>5.45</td>\n      <td></td>\n      <td>366</td>\n      <td></td>\n      <td></td>\n      <td></td>\n      <td></td>\n      <td></td>\n      <td></td>\n    </tr>\n    <tr>\n      <td>5</td>\n      <td>3</td>\n      <td>2017</td>\n      <td>2017-06-30</td>\n      <td>interest_accrual</td>\n      <td></td>\n      <td></td>\n      <td>for period until income year end</td>\n      <td>5.4</td>\n      <td></td>\n      <td>365</td>\n      <td></td>\n      <td></td>\n      <td></td>\n      <td></td>\n      <td></td>\n      <td></td>\n    </tr>\n    <tr>\n      <td>4</td>\n      <td>4</td>\n      <td>2018</td>\n      <td>2018-06-30</td>\n      <td>interest_accrual</td>\n      <td></td>\n      <td></td>\n      <td>for period until income year end</td>\n      <td>5.3</td>\n      <td></td>\n      <td>365</td>\n      <td></td>\n      <td></td>\n      <td></td>\n      <td></td>\n      <td></td>\n      <td></td>\n    </tr>\n    <tr>\n      <td>3</td>\n      <td>5</td>\n      <td>2019</td>\n      <td>2019-06-30</td>\n      <td>interest_accrual</td>\n      <td></td>\n      <td></td>\n      <td>for period until income year end</td>\n      <td>5.2</td>\n      <td></td>\n      <td>365</td>\n      <td></td>\n      <td></td>\n      <td></td>\n      <td></td>\n      <td></td>\n      <td></td>\n    </tr>\n    <tr>\n      <td>3</td>\n      <td>5</td>\n      <td>2019</td>\n      <td>2019-06-30</td>\n      <td>opening_balance</td>\n      <td>1000</td>\n      <td></td>\n      <td></td>\n      <td></td>\n      <td>1000</td>\n      <td></td>\n      <td></td>\n      <td></td>\n      <td></td>\n      <td></td>\n      <td></td>\n      <td></td>\n    </tr>\n    <tr>\n      <td>2</td>\n      <td>6</td>\n      <td>2020</td>\n      <td>2020-06-30</td>\n      <td>interest_accrual</td>\n      <td>6384.712329</td>\n      <td></td>\n      <td>for period until income year end</td>\n      <td>5.37</td>\n      <td></td>\n      <td>366</td>\n      <td></td>\n      <td></td>\n      <td></td>\n      <td></td>\n      <td></td>\n      <td></td>\n    </tr>\n    <tr>\n      <td>1</td>\n      <td>7</td>\n      <td>2021</td>\n      <td>2021-06-30</td>\n      <td>interest_accrual</td>\n      <td>35243.612055</td>\n      <td></td>\n      <td>for period until income year end</td>\n      <td>4.52</td>\n      <td></td>\n      <td>365</td>\n      <td></td>\n      <td></td>\n      <td></td>\n      <td></td>\n      <td></td>\n      <td></td>\n    </tr>\n    <tr>\n      <td>0</td>\n      <td>8</td>\n      <td>2022</td>\n      <td>2022-06-30</td>\n      <td>interest_accrual</td>\n      <td>194544.738542</td>\n      <td></td>\n      <td>for period until income year end</td>\n      <td>4.52</td>\n      <td></td>\n      <td>365</td>\n      <td></td>\n      <td></td>\n      <td></td>\n      <td></td>\n      <td></td>\n      <td></td>\n    </tr>\n  </tbody>\n</table>"
     },
     "metadata": {},
     "output_type": "display_data"
    },
    {
     "name": "stdout",
     "output_type": "stream",
     "text": [
      "with_myr_checks\n"
     ]
    },
    {
     "data": {
      "text/plain": "<IPython.core.display.HTML object>",
      "text/html": "<table border=\"1\" class=\"dataframe\">\n  <thead>\n    <tr style=\"text-align: right;\">\n      <th>rem</th>\n      <th>year</th>\n      <th>iy</th>\n      <th>date</th>\n      <th>type</th>\n      <th>final_balance</th>\n      <th>term</th>\n      <th>note</th>\n      <th>rate</th>\n      <th>amount</th>\n      <th>days</th>\n      <th>total_repaid_for_myr_calc</th>\n      <th>total_repaid</th>\n      <th>myr_required</th>\n      <th>shortfall</th>\n      <th>excess</th>\n      <th>counts_towards_myr_principal</th>\n    </tr>\n  </thead>\n  <tbody>\n    <tr>\n      <td>8</td>\n      <td>0</td>\n      <td>2014</td>\n      <td>2014-06-30</td>\n      <td>loan_start</td>\n      <td></td>\n      <td>7</td>\n      <td></td>\n      <td></td>\n      <td></td>\n      <td></td>\n      <td></td>\n      <td></td>\n      <td></td>\n      <td></td>\n      <td></td>\n      <td></td>\n    </tr>\n    <tr>\n      <td>7</td>\n      <td>1</td>\n      <td>2015</td>\n      <td>2015-06-30</td>\n      <td>interest_accrual</td>\n      <td></td>\n      <td></td>\n      <td>for period until income year end</td>\n      <td>5.95</td>\n      <td></td>\n      <td>365</td>\n      <td></td>\n      <td></td>\n      <td></td>\n      <td></td>\n      <td></td>\n      <td></td>\n    </tr>\n    <tr>\n      <td>6</td>\n      <td>2</td>\n      <td>2016</td>\n      <td>2016-06-30</td>\n      <td>interest_accrual</td>\n      <td></td>\n      <td></td>\n      <td>for period until income year end</td>\n      <td>5.45</td>\n      <td></td>\n      <td>366</td>\n      <td></td>\n      <td></td>\n      <td></td>\n      <td></td>\n      <td></td>\n      <td></td>\n    </tr>\n    <tr>\n      <td>5</td>\n      <td>3</td>\n      <td>2017</td>\n      <td>2017-06-30</td>\n      <td>interest_accrual</td>\n      <td></td>\n      <td></td>\n      <td>for period until income year end</td>\n      <td>5.4</td>\n      <td></td>\n      <td>365</td>\n      <td></td>\n      <td></td>\n      <td></td>\n      <td></td>\n      <td></td>\n      <td></td>\n    </tr>\n    <tr>\n      <td>4</td>\n      <td>4</td>\n      <td>2018</td>\n      <td>2018-06-30</td>\n      <td>interest_accrual</td>\n      <td></td>\n      <td></td>\n      <td>for period until income year end</td>\n      <td>5.3</td>\n      <td></td>\n      <td>365</td>\n      <td></td>\n      <td></td>\n      <td></td>\n      <td></td>\n      <td></td>\n      <td></td>\n    </tr>\n    <tr>\n      <td>3</td>\n      <td>5</td>\n      <td>2019</td>\n      <td>2019-06-30</td>\n      <td>interest_accrual</td>\n      <td></td>\n      <td></td>\n      <td>for period until income year end</td>\n      <td>5.2</td>\n      <td></td>\n      <td>365</td>\n      <td></td>\n      <td></td>\n      <td></td>\n      <td></td>\n      <td></td>\n      <td></td>\n    </tr>\n    <tr>\n      <td>3</td>\n      <td>5</td>\n      <td>2019</td>\n      <td>2019-06-30</td>\n      <td>opening_balance</td>\n      <td>1000</td>\n      <td></td>\n      <td></td>\n      <td></td>\n      <td>1000</td>\n      <td></td>\n      <td></td>\n      <td></td>\n      <td></td>\n      <td></td>\n      <td></td>\n      <td></td>\n    </tr>\n    <tr>\n      <td>2</td>\n      <td>6</td>\n      <td>2020</td>\n      <td>2020-06-30</td>\n      <td>interest_accrual</td>\n      <td>6384.712329</td>\n      <td></td>\n      <td>for period until income year end</td>\n      <td>5.37</td>\n      <td></td>\n      <td>366</td>\n      <td></td>\n      <td></td>\n      <td></td>\n      <td></td>\n      <td></td>\n      <td></td>\n    </tr>\n    <tr>\n      <td>2</td>\n      <td>6</td>\n      <td>2020</td>\n      <td>2020-06-30</td>\n      <td>myr_check</td>\n      <td></td>\n      <td></td>\n      <td></td>\n      <td></td>\n      <td></td>\n      <td></td>\n      <td>0</td>\n      <td>0</td>\n      <td></td>\n      <td></td>\n      <td></td>\n      <td></td>\n    </tr>\n    <tr>\n      <td>1</td>\n      <td>7</td>\n      <td>2021</td>\n      <td>2021-06-30</td>\n      <td>interest_accrual</td>\n      <td>35243.612055</td>\n      <td></td>\n      <td>for period until income year end</td>\n      <td>4.52</td>\n      <td></td>\n      <td>365</td>\n      <td></td>\n      <td></td>\n      <td></td>\n      <td></td>\n      <td></td>\n      <td></td>\n    </tr>\n    <tr>\n      <td>1</td>\n      <td>7</td>\n      <td>2021</td>\n      <td>2021-06-30</td>\n      <td>myr_check</td>\n      <td></td>\n      <td></td>\n      <td></td>\n      <td></td>\n      <td></td>\n      <td></td>\n      <td>0</td>\n      <td>0</td>\n      <td></td>\n      <td></td>\n      <td></td>\n      <td></td>\n    </tr>\n    <tr>\n      <td>0</td>\n      <td>8</td>\n      <td>2022</td>\n      <td>2022-06-30</td>\n      <td>interest_accrual</td>\n      <td>194544.738542</td>\n      <td></td>\n      <td>for period until income year end</td>\n      <td>4.52</td>\n      <td></td>\n      <td>365</td>\n      <td></td>\n      <td></td>\n      <td></td>\n      <td></td>\n      <td></td>\n      <td></td>\n    </tr>\n  </tbody>\n</table>"
     },
     "metadata": {},
     "output_type": "display_data"
    },
    {
     "name": "stdout",
     "output_type": "stream",
     "text": [
      "evaluate_myr_checks\n"
     ]
    },
    {
     "data": {
      "text/plain": "<IPython.core.display.HTML object>",
      "text/html": "<table border=\"1\" class=\"dataframe\">\n  <thead>\n    <tr style=\"text-align: right;\">\n      <th>rem</th>\n      <th>year</th>\n      <th>iy</th>\n      <th>date</th>\n      <th>type</th>\n      <th>final_balance</th>\n      <th>term</th>\n      <th>note</th>\n      <th>rate</th>\n      <th>amount</th>\n      <th>days</th>\n      <th>total_repaid_for_myr_calc</th>\n      <th>total_repaid</th>\n      <th>myr_required</th>\n      <th>shortfall</th>\n      <th>excess</th>\n      <th>counts_towards_myr_principal</th>\n    </tr>\n  </thead>\n  <tbody>\n    <tr>\n      <td>8</td>\n      <td>0</td>\n      <td>2014</td>\n      <td>2014-06-30</td>\n      <td>loan_start</td>\n      <td></td>\n      <td>7</td>\n      <td></td>\n      <td></td>\n      <td></td>\n      <td></td>\n      <td></td>\n      <td></td>\n      <td></td>\n      <td></td>\n      <td></td>\n      <td></td>\n    </tr>\n    <tr>\n      <td>7</td>\n      <td>1</td>\n      <td>2015</td>\n      <td>2015-06-30</td>\n      <td>interest_accrual</td>\n      <td></td>\n      <td></td>\n      <td>for period until income year end</td>\n      <td>5.95</td>\n      <td></td>\n      <td>365</td>\n      <td></td>\n      <td></td>\n      <td></td>\n      <td></td>\n      <td></td>\n      <td></td>\n    </tr>\n    <tr>\n      <td>6</td>\n      <td>2</td>\n      <td>2016</td>\n      <td>2016-06-30</td>\n      <td>interest_accrual</td>\n      <td></td>\n      <td></td>\n      <td>for period until income year end</td>\n      <td>5.45</td>\n      <td></td>\n      <td>366</td>\n      <td></td>\n      <td></td>\n      <td></td>\n      <td></td>\n      <td></td>\n      <td></td>\n    </tr>\n    <tr>\n      <td>5</td>\n      <td>3</td>\n      <td>2017</td>\n      <td>2017-06-30</td>\n      <td>interest_accrual</td>\n      <td></td>\n      <td></td>\n      <td>for period until income year end</td>\n      <td>5.4</td>\n      <td></td>\n      <td>365</td>\n      <td></td>\n      <td></td>\n      <td></td>\n      <td></td>\n      <td></td>\n      <td></td>\n    </tr>\n    <tr>\n      <td>4</td>\n      <td>4</td>\n      <td>2018</td>\n      <td>2018-06-30</td>\n      <td>interest_accrual</td>\n      <td></td>\n      <td></td>\n      <td>for period until income year end</td>\n      <td>5.3</td>\n      <td></td>\n      <td>365</td>\n      <td></td>\n      <td></td>\n      <td></td>\n      <td></td>\n      <td></td>\n      <td></td>\n    </tr>\n    <tr>\n      <td>3</td>\n      <td>5</td>\n      <td>2019</td>\n      <td>2019-06-30</td>\n      <td>interest_accrual</td>\n      <td></td>\n      <td></td>\n      <td>for period until income year end</td>\n      <td>5.2</td>\n      <td></td>\n      <td>365</td>\n      <td></td>\n      <td></td>\n      <td></td>\n      <td></td>\n      <td></td>\n      <td></td>\n    </tr>\n    <tr>\n      <td>3</td>\n      <td>5</td>\n      <td>2019</td>\n      <td>2019-06-30</td>\n      <td>opening_balance</td>\n      <td>1000</td>\n      <td></td>\n      <td></td>\n      <td></td>\n      <td>1000</td>\n      <td></td>\n      <td></td>\n      <td></td>\n      <td></td>\n      <td></td>\n      <td></td>\n      <td></td>\n    </tr>\n    <tr>\n      <td>2</td>\n      <td>6</td>\n      <td>2020</td>\n      <td>2020-06-30</td>\n      <td>interest_accrual</td>\n      <td>6384.712329</td>\n      <td></td>\n      <td>for period until income year end</td>\n      <td>5.37</td>\n      <td></td>\n      <td>366</td>\n      <td></td>\n      <td></td>\n      <td></td>\n      <td></td>\n      <td></td>\n      <td></td>\n    </tr>\n    <tr>\n      <td>2</td>\n      <td>6</td>\n      <td>2020</td>\n      <td>2020-06-30</td>\n      <td>myr_check</td>\n      <td></td>\n      <td></td>\n      <td></td>\n      <td></td>\n      <td></td>\n      <td></td>\n      <td>0</td>\n      <td>0</td>\n      <td>15.084069</td>\n      <td>15.084069</td>\n      <td></td>\n      <td></td>\n    </tr>\n    <tr>\n      <td>1</td>\n      <td>7</td>\n      <td>2021</td>\n      <td>2021-06-30</td>\n      <td>interest_accrual</td>\n      <td>35243.612055</td>\n      <td></td>\n      <td>for period until income year end</td>\n      <td>4.52</td>\n      <td></td>\n      <td>365</td>\n      <td></td>\n      <td></td>\n      <td></td>\n      <td></td>\n      <td></td>\n      <td></td>\n    </tr>\n    <tr>\n      <td>1</td>\n      <td>7</td>\n      <td>2021</td>\n      <td>2021-06-30</td>\n      <td>myr_check</td>\n      <td></td>\n      <td></td>\n      <td></td>\n      <td></td>\n      <td></td>\n      <td></td>\n      <td>0</td>\n      <td>0</td>\n      <td>96.557841</td>\n      <td>96.557841</td>\n      <td></td>\n      <td></td>\n    </tr>\n    <tr>\n      <td>0</td>\n      <td>8</td>\n      <td>2022</td>\n      <td>2022-06-30</td>\n      <td>interest_accrual</td>\n      <td>194544.738542</td>\n      <td></td>\n      <td>for period until income year end</td>\n      <td>4.52</td>\n      <td></td>\n      <td>365</td>\n      <td></td>\n      <td></td>\n      <td></td>\n      <td></td>\n      <td></td>\n      <td></td>\n    </tr>\n  </tbody>\n</table>"
     },
     "metadata": {},
     "output_type": "display_data"
    }
   ],
   "source": [
    "import sys;sys.path.append(\"../app\")\n",
    "import div7a_tests \n",
    "from div7a_tests import *\n",
    "tables = test1()\n"
   ],
   "metadata": {
    "collapsed": false,
    "ExecuteTime": {
     "end_time": "2023-10-18T01:46:35.405092091Z",
     "start_time": "2023-10-18T01:46:35.129281216Z"
    }
   },
   "id": "initial_id"
  },
  {
   "cell_type": "code",
   "execution_count": 6,
   "outputs": [],
   "source": [],
   "metadata": {
    "collapsed": false,
    "ExecuteTime": {
     "end_time": "2023-10-18T01:46:35.426129990Z",
     "start_time": "2023-10-18T01:46:35.356530952Z"
    }
   },
   "id": "943944a59e100369"
  },
  {
   "cell_type": "code",
   "execution_count": 6,
   "outputs": [],
   "source": [],
   "metadata": {
    "collapsed": false,
    "ExecuteTime": {
     "end_time": "2023-10-18T01:46:35.441062751Z",
     "start_time": "2023-10-18T01:46:35.358360763Z"
    }
   },
   "id": "af0955f88ae5f82f"
  },
  {
   "cell_type": "code",
   "execution_count": 6,
   "outputs": [],
   "source": [],
   "metadata": {
    "collapsed": false,
    "ExecuteTime": {
     "end_time": "2023-10-18T01:46:35.462132931Z",
     "start_time": "2023-10-18T01:46:35.360887791Z"
    }
   },
   "id": "27e02278550975fc"
  }
 ],
 "metadata": {
  "kernelspec": {
   "display_name": "Python 3",
   "language": "python",
   "name": "python3"
  },
  "language_info": {
   "codemirror_mode": {
    "name": "ipython",
    "version": 2
   },
   "file_extension": ".py",
   "mimetype": "text/x-python",
   "name": "python",
   "nbconvert_exporter": "python",
   "pygments_lexer": "ipython2",
   "version": "2.7.6"
  }
 },
 "nbformat": 4,
 "nbformat_minor": 5
}
