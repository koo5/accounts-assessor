{
 "cells": [
  {
   "cell_type": "code",
   "execution_count": 2,
   "id": "initial_id",
   "metadata": {
    "collapsed": true,
    "ExecuteTime": {
     "end_time": "2023-10-12T23:20:55.264946954Z",
     "start_time": "2023-10-12T23:20:55.238305550Z"
    }
   },
   "outputs": [
    {
     "data": {
      "text/plain": "OrderedDict([('input',\n              [2014-06-30:loan_start({'term': 7}),\n               2019-06-30:opening_balance({'amount': 1000})]),\n             ('with_interest_accrual_records',\n              [2014-06-30:loan_start({'term': 7}),\n               2015-06-30:interest_accrual({'rate': 5.95}),\n               2016-06-30:interest_accrual({'rate': 5.45}),\n               2017-06-30:interest_accrual({'rate': 5.4}),\n               2018-06-30:interest_accrual({'rate': 5.3}),\n               2019-06-30:opening_balance({'amount': 1000}),\n               2019-06-30:interest_accrual({'rate': 5.2}),\n               2020-06-30:interest_accrual({'rate': 5.37}),\n               2021-06-30:interest_accrual({'rate': 4.52})]),\n             ('with_interest_accrual_days',\n              [2014-06-30:loan_start({'term': 7}),\n               2015-06-30:interest_accrual({'rate': 5.95, 'days': 365}),\n               2016-06-30:interest_accrual({'rate': 5.45, 'days': 366}),\n               2017-06-30:interest_accrual({'rate': 5.4, 'days': 365}),\n               2018-06-30:interest_accrual({'rate': 5.3, 'days': 365}),\n               2019-06-30:opening_balance({'amount': 1000}),\n               2019-06-30:interest_accrual({'rate': 5.2, 'days': 0}),\n               2020-06-30:interest_accrual({'rate': 5.37, 'days': 366}),\n               2021-06-30:interest_accrual({'rate': 4.52, 'days': 365})]),\n             ('with_balance_and_accrual',\n              [2014-06-30:loan_start({'term': 7}),\n               2015-06-30:interest_accrual({'rate': 5.95, 'days': 365}),\n               2016-06-30:interest_accrual({'rate': 5.45, 'days': 366}),\n               2017-06-30:interest_accrual({'rate': 5.4, 'days': 365}),\n               2018-06-30:interest_accrual({'rate': 5.3, 'days': 365}),\n               2019-06-30:opening_balance({'amount': 1000}),\n               2019-06-30:interest_accrual({'rate': 5.2, 'days': 0}),\n               2020-06-30:interest_accrual({'rate': 5.37, 'days': 366}),\n               2021-06-30:interest_accrual({'rate': 4.52, 'days': 365})])])"
     },
     "execution_count": 2,
     "metadata": {},
     "output_type": "execute_result"
    }
   ],
   "source": [
    "import sys;sys.path.append(\"../app\")\n",
    "from div7a_tests import *\n",
    "test1()"
   ]
  }
 ],
 "metadata": {
  "kernelspec": {
   "display_name": "Python 3",
   "language": "python",
   "name": "python3"
  },
  "language_info": {
   "codemirror_mode": {
    "name": "ipython",
    "version": 2
   },
   "file_extension": ".py",
   "mimetype": "text/x-python",
   "name": "python",
   "nbconvert_exporter": "python",
   "pygments_lexer": "ipython2",
   "version": "2.7.6"
  }
 },
 "nbformat": 4,
 "nbformat_minor": 5
}
