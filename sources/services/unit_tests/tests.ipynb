{
 "cells": [
  {
   "cell_type": "code",
   "execution_count": 1,
   "outputs": [],
   "source": [
    "%load_ext autoreload"
   ],
   "metadata": {
    "collapsed": false,
    "ExecuteTime": {
     "end_time": "2023-10-20T19:35:05.209775717Z",
     "start_time": "2023-10-20T19:35:05.160213406Z"
    }
   },
   "id": "52a72d4fb822a89f"
  },
  {
   "cell_type": "code",
   "execution_count": 2,
   "outputs": [],
   "source": [
    "%autoreload 2"
   ],
   "metadata": {
    "collapsed": false,
    "ExecuteTime": {
     "end_time": "2023-10-20T19:35:05.212981814Z",
     "start_time": "2023-10-20T19:35:05.202658083Z"
    }
   },
   "id": "41aed043447a802e"
  },
  {
   "cell_type": "code",
   "execution_count": 11,
   "outputs": [
    {
     "ename": "ImportError",
     "evalue": "attempted relative import with no known parent package",
     "output_type": "error",
     "traceback": [
      "\u001B[0;31m---------------------------------------------------------------------------\u001B[0m",
      "\u001B[0;31mImportError\u001B[0m                               Traceback (most recent call last)",
      "Cell \u001B[0;32mIn[11], line 2\u001B[0m\n\u001B[1;32m      1\u001B[0m \u001B[38;5;28;01mimport\u001B[39;00m \u001B[38;5;21;01msys\u001B[39;00m;sys\u001B[38;5;241m.\u001B[39mpath\u001B[38;5;241m.\u001B[39mappend(\u001B[38;5;124m\"\u001B[39m\u001B[38;5;124m../app\u001B[39m\u001B[38;5;124m\"\u001B[39m) \n\u001B[0;32m----> 2\u001B[0m \u001B[38;5;28;01mfrom\u001B[39;00m \u001B[38;5;21;01mdiv7a_tests\u001B[39;00m \u001B[38;5;28;01mimport\u001B[39;00m \u001B[38;5;241m*\u001B[39m\n\u001B[1;32m      3\u001B[0m tables \u001B[38;5;241m=\u001B[39m test1()\n",
      "File \u001B[0;32m~/repos/koo5/accounts-assessor/0/accounts-assessor/sources/services/unit_tests/../app/div7a_tests.py:1\u001B[0m\n\u001B[0;32m----> 1\u001B[0m \u001B[38;5;28;01mfrom\u001B[39;00m \u001B[38;5;21;01mdiv7a\u001B[39;00m \u001B[38;5;28;01mimport\u001B[39;00m \u001B[38;5;241m*\u001B[39m\n\u001B[1;32m      4\u001B[0m \u001B[38;5;28;01mdef\u001B[39;00m \u001B[38;5;21mtest1\u001B[39m():\n\u001B[1;32m      5\u001B[0m \t\u001B[38;5;28;01mreturn\u001B[39;00m div7a([\n\u001B[1;32m      6\u001B[0m \t\trecord(date(\u001B[38;5;241m2014\u001B[39m, \u001B[38;5;241m6\u001B[39m, \u001B[38;5;241m30\u001B[39m), loan_start, {\u001B[38;5;124m'\u001B[39m\u001B[38;5;124mterm\u001B[39m\u001B[38;5;124m'\u001B[39m: \u001B[38;5;241m7\u001B[39m}),\n\u001B[1;32m      7\u001B[0m \t\trecord(date(\u001B[38;5;241m2019\u001B[39m, \u001B[38;5;241m6\u001B[39m, \u001B[38;5;241m30\u001B[39m), opening_balance, {\u001B[38;5;124m'\u001B[39m\u001B[38;5;124mamount\u001B[39m\u001B[38;5;124m'\u001B[39m: \u001B[38;5;241m1000\u001B[39m}),\n\u001B[1;32m      8\u001B[0m \t])\n",
      "File \u001B[0;32m~/repos/koo5/accounts-assessor/0/accounts-assessor/sources/services/unit_tests/../app/div7a.py:6\u001B[0m\n\u001B[1;32m      4\u001B[0m \u001B[38;5;28;01mfrom\u001B[39;00m \u001B[38;5;21;01msortedcontainers\u001B[39;00m \u001B[38;5;28;01mimport\u001B[39;00m SortedList\n\u001B[1;32m      5\u001B[0m \u001B[38;5;28;01mimport\u001B[39;00m \u001B[38;5;21;01mpandas\u001B[39;00m \u001B[38;5;28;01mas\u001B[39;00m \u001B[38;5;21;01mpd\u001B[39;00m\n\u001B[0;32m----> 6\u001B[0m \u001B[38;5;28;01mfrom\u001B[39;00m \u001B[38;5;21;01m.\u001B[39;00m\u001B[38;5;21;01mdiv7a_steps\u001B[39;00m \u001B[38;5;28;01mimport\u001B[39;00m \u001B[38;5;241m*\u001B[39m\n\u001B[1;32m      7\u001B[0m \u001B[38;5;28;01mfrom\u001B[39;00m \u001B[38;5;21;01m.\u001B[39;00m\u001B[38;5;21;01mdiv7a_checks\u001B[39;00m \u001B[38;5;28;01mimport\u001B[39;00m \u001B[38;5;241m*\u001B[39m\n\u001B[1;32m     10\u001B[0m log \u001B[38;5;241m=\u001B[39m logging\u001B[38;5;241m.\u001B[39mgetLogger(\u001B[38;5;18m__name__\u001B[39m)\n",
      "\u001B[0;31mImportError\u001B[0m: attempted relative import with no known parent package"
     ]
    }
   ],
   "source": [
    "import sys;sys.path.append(\"../app\") \n",
    "from div7a_tests import *\n",
    "tables = test1()"
   ],
   "metadata": {
    "collapsed": false,
    "ExecuteTime": {
     "end_time": "2023-10-20T19:37:00.806416736Z",
     "start_time": "2023-10-20T19:37:00.711072242Z"
    }
   },
   "id": "662875033bb2e261"
  }
 ],
 "metadata": {
  "kernelspec": {
   "display_name": "Python 3",
   "language": "python",
   "name": "python3"
  },
  "language_info": {
   "codemirror_mode": {
    "name": "ipython",
    "version": 2
   },
   "file_extension": ".py",
   "mimetype": "text/x-python",
   "name": "python",
   "nbconvert_exporter": "python",
   "pygments_lexer": "ipython2",
   "version": "2.7.6"
  }
 },
 "nbformat": 4,
 "nbformat_minor": 5
}
