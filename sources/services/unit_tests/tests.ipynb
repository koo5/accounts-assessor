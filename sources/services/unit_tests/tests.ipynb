{
 "cells": [
  {
   "cell_type": "code",
   "execution_count": 18,
   "outputs": [
    {
     "name": "stdout",
     "output_type": "stream",
     "text": [
      "The autoreload extension is already loaded. To reload it, use:\n",
      "  %reload_ext autoreload\n"
     ]
    }
   ],
   "source": [
    "import pandas.conftest\n",
    "%load_ext autoreload"
   ],
   "metadata": {
    "collapsed": false,
    "ExecuteTime": {
     "end_time": "2023-10-13T15:13:47.037449305Z",
     "start_time": "2023-10-13T15:13:47.013227612Z"
    }
   },
   "id": "52a72d4fb822a89f"
  },
  {
   "cell_type": "code",
   "execution_count": 17,
   "outputs": [],
   "source": [
    "%autoreload 2"
   ],
   "metadata": {
    "collapsed": false,
    "ExecuteTime": {
     "end_time": "2023-10-13T15:13:45.489392108Z",
     "start_time": "2023-10-13T15:13:45.460015057Z"
    }
   },
   "id": "41aed043447a802e"
  },
  {
   "cell_type": "code",
   "execution_count": 21,
   "outputs": [
    {
     "data": {
      "text/plain": "[2014-06-30:loan_start({'term': 7}),\n 2015-06-30:interest_accrual({'rate': 5.95, 'days': 365}),\n 2016-06-30:interest_accrual({'rate': 5.45, 'days': 366}),\n 2017-06-30:interest_accrual({'rate': 5.4, 'days': 365}),\n 2018-06-30:interest_accrual({'rate': 5.3, 'days': 365}),\n 2019-06-30:opening_balance({'amount': 1000}),\n 2019-06-30:interest_accrual({'rate': 5.2, 'days': 0}),\n 2020-06-30:interest_accrual({'rate': 5.37, 'days': 366}),\n 2021-06-30:interest_accrual({'rate': 4.52, 'days': 365})]"
     },
     "execution_count": 21,
     "metadata": {},
     "output_type": "execute_result"
    }
   ],
   "source": [
    "import pandas\n",
    "import sys;sys.path.append(\"../app\")\n",
    "%aimport div7a_tests \n",
    "from div7a_tests import *\n",
    "test1()\n"
   ],
   "metadata": {
    "collapsed": false,
    "ExecuteTime": {
     "end_time": "2023-10-13T15:14:44.866865248Z",
     "start_time": "2023-10-13T15:14:44.172215891Z"
    }
   },
   "id": "initial_id"
  },
  {
   "cell_type": "code",
   "execution_count": null,
   "outputs": [],
   "source": [],
   "metadata": {
    "collapsed": false
   },
   "id": "943944a59e100369"
  },
  {
   "cell_type": "code",
   "execution_count": 37,
   "outputs": [
    {
     "data": {
      "text/plain": "               a                                b     c\n0           4252  [1, 2, 3, 4, 5, 6, 7, 8, 9, 10]   NaN\n1  [1, 2, 3, 10]                 [1, 2, 8, 9, 10]  xxxx",
      "text/html": "<div>\n<style scoped>\n    .dataframe tbody tr th:only-of-type {\n        vertical-align: middle;\n    }\n\n    .dataframe tbody tr th {\n        vertical-align: top;\n    }\n\n    .dataframe thead th {\n        text-align: right;\n    }\n</style>\n<table border=\"1\" class=\"dataframe\">\n  <thead>\n    <tr style=\"text-align: right;\">\n      <th></th>\n      <th>a</th>\n      <th>b</th>\n      <th>c</th>\n    </tr>\n  </thead>\n  <tbody>\n    <tr>\n      <th>0</th>\n      <td>4252</td>\n      <td>[1, 2, 3, 4, 5, 6, 7, 8, 9, 10]</td>\n      <td>NaN</td>\n    </tr>\n    <tr>\n      <th>1</th>\n      <td>[1, 2, 3, 10]</td>\n      <td>[1, 2, 8, 9, 10]</td>\n      <td>xxxx</td>\n    </tr>\n  </tbody>\n</table>\n</div>"
     },
     "metadata": {},
     "output_type": "display_data"
    },
    {
     "data": {
      "text/plain": "               a                                b     c\n0           4252  [1, 2, 3, 4, 5, 6, 7, 8, 9, 10]   NaN\n1  [1, 2, 3, 10]                 [1, 2, 8, 9, 10]  xxxx",
      "text/html": "<div>\n<style scoped>\n    .dataframe tbody tr th:only-of-type {\n        vertical-align: middle;\n    }\n\n    .dataframe tbody tr th {\n        vertical-align: top;\n    }\n\n    .dataframe thead th {\n        text-align: right;\n    }\n</style>\n<table border=\"1\" class=\"dataframe\">\n  <thead>\n    <tr style=\"text-align: right;\">\n      <th></th>\n      <th>a</th>\n      <th>b</th>\n      <th>c</th>\n    </tr>\n  </thead>\n  <tbody>\n    <tr>\n      <th>0</th>\n      <td>4252</td>\n      <td>[1, 2, 3, 4, 5, 6, 7, 8, 9, 10]</td>\n      <td>NaN</td>\n    </tr>\n    <tr>\n      <th>1</th>\n      <td>[1, 2, 3, 10]</td>\n      <td>[1, 2, 8, 9, 10]</td>\n      <td>xxxx</td>\n    </tr>\n  </tbody>\n</table>\n</div>"
     },
     "metadata": {},
     "output_type": "display_data"
    }
   ],
   "source": [
    "f = pandas.DataFrame([{\"a\":4252,\"b\":[1,2,3,4,5,6,7,8,9,10]},{\"a\":[1,2,3,10],\"b\":[1,2,8,9,10], \"c\":\"xxxx\"}])\n",
    "\n",
    "from IPython.display import display\n",
    "import pandas as pd\n",
    "display(f)\n",
    "display(pd.DataFrame(f))"
   ],
   "metadata": {
    "collapsed": false,
    "ExecuteTime": {
     "end_time": "2023-10-13T20:00:50.857604363Z",
     "start_time": "2023-10-13T20:00:50.773377769Z"
    }
   },
   "id": "af0955f88ae5f82f"
  }
 ],
 "metadata": {
  "kernelspec": {
   "display_name": "Python 3",
   "language": "python",
   "name": "python3"
  },
  "language_info": {
   "codemirror_mode": {
    "name": "ipython",
    "version": 2
   },
   "file_extension": ".py",
   "mimetype": "text/x-python",
   "name": "python",
   "nbconvert_exporter": "python",
   "pygments_lexer": "ipython2",
   "version": "2.7.6"
  }
 },
 "nbformat": 4,
 "nbformat_minor": 5
}
