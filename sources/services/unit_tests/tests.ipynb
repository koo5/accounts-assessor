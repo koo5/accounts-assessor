{
 "cells": [
  {
   "cell_type": "code",
   "execution_count": 14,
   "outputs": [
    {
     "name": "stdout",
     "output_type": "stream",
     "text": [
      "The autoreload extension is already loaded. To reload it, use:\n",
      "  %reload_ext autoreload\n"
     ]
    }
   ],
   "source": [
    "%load_ext autoreload"
   ],
   "metadata": {
    "collapsed": false,
    "ExecuteTime": {
     "end_time": "2023-10-17T21:52:51.967384298Z",
     "start_time": "2023-10-17T21:52:51.955927565Z"
    }
   },
   "id": "52a72d4fb822a89f"
  },
  {
   "cell_type": "code",
   "execution_count": 15,
   "outputs": [],
   "source": [
    "%autoreload 2"
   ],
   "metadata": {
    "collapsed": false,
    "ExecuteTime": {
     "end_time": "2023-10-17T21:52:54.710810478Z",
     "start_time": "2023-10-17T21:52:54.700906547Z"
    }
   },
   "id": "41aed043447a802e"
  },
  {
   "cell_type": "code",
   "execution_count": 1,
   "outputs": [
    {
     "name": "stdout",
     "output_type": "stream",
     "text": [
      "input\n"
     ]
    },
    {
     "data": {
      "text/plain": "         date             type term note rate amount days final_balance\n0  2014-06-30       loan_start    7                                    \n1  2019-06-30  opening_balance                  1000                   ",
      "text/html": "<div>\n<style scoped>\n    .dataframe tbody tr th:only-of-type {\n        vertical-align: middle;\n    }\n\n    .dataframe tbody tr th {\n        vertical-align: top;\n    }\n\n    .dataframe thead th {\n        text-align: right;\n    }\n</style>\n<table border=\"1\" class=\"dataframe\">\n  <thead>\n    <tr style=\"text-align: right;\">\n      <th></th>\n      <th>date</th>\n      <th>type</th>\n      <th>term</th>\n      <th>note</th>\n      <th>rate</th>\n      <th>amount</th>\n      <th>days</th>\n      <th>final_balance</th>\n    </tr>\n  </thead>\n  <tbody>\n    <tr>\n      <th>0</th>\n      <td>2014-06-30</td>\n      <td>loan_start</td>\n      <td>7</td>\n      <td></td>\n      <td></td>\n      <td></td>\n      <td></td>\n      <td></td>\n    </tr>\n    <tr>\n      <th>1</th>\n      <td>2019-06-30</td>\n      <td>opening_balance</td>\n      <td></td>\n      <td></td>\n      <td></td>\n      <td>1000</td>\n      <td></td>\n      <td></td>\n    </tr>\n  </tbody>\n</table>\n</div>"
     },
     "metadata": {},
     "output_type": "display_data"
    },
    {
     "name": "stdout",
     "output_type": "stream",
     "text": [
      "insert_interest_accrual_records\n"
     ]
    },
    {
     "data": {
      "text/plain": "         date              type term                              note  rate  \\\n0  2014-06-30        loan_start    7                                           \n1  2015-06-30  interest_accrual       for period until income year end  5.95   \n2  2016-06-30  interest_accrual       for period until income year end  5.45   \n3  2017-06-30  interest_accrual       for period until income year end   5.4   \n4  2018-06-30  interest_accrual       for period until income year end   5.3   \n5  2019-06-30   opening_balance                                                \n6  2019-06-30  interest_accrual       for period until income year end   5.2   \n7  2020-06-30  interest_accrual       for period until income year end  5.37   \n8  2021-06-30  interest_accrual       for period until income year end  4.52   \n9  2022-06-30  interest_accrual       for period until income year end  4.52   \n\n  amount days final_balance  \n0                            \n1                            \n2                            \n3                            \n4                            \n5   1000                     \n6                            \n7                            \n8                            \n9                            ",
      "text/html": "<div>\n<style scoped>\n    .dataframe tbody tr th:only-of-type {\n        vertical-align: middle;\n    }\n\n    .dataframe tbody tr th {\n        vertical-align: top;\n    }\n\n    .dataframe thead th {\n        text-align: right;\n    }\n</style>\n<table border=\"1\" class=\"dataframe\">\n  <thead>\n    <tr style=\"text-align: right;\">\n      <th></th>\n      <th>date</th>\n      <th>type</th>\n      <th>term</th>\n      <th>note</th>\n      <th>rate</th>\n      <th>amount</th>\n      <th>days</th>\n      <th>final_balance</th>\n    </tr>\n  </thead>\n  <tbody>\n    <tr>\n      <th>0</th>\n      <td>2014-06-30</td>\n      <td>loan_start</td>\n      <td>7</td>\n      <td></td>\n      <td></td>\n      <td></td>\n      <td></td>\n      <td></td>\n    </tr>\n    <tr>\n      <th>1</th>\n      <td>2015-06-30</td>\n      <td>interest_accrual</td>\n      <td></td>\n      <td>for period until income year end</td>\n      <td>5.95</td>\n      <td></td>\n      <td></td>\n      <td></td>\n    </tr>\n    <tr>\n      <th>2</th>\n      <td>2016-06-30</td>\n      <td>interest_accrual</td>\n      <td></td>\n      <td>for period until income year end</td>\n      <td>5.45</td>\n      <td></td>\n      <td></td>\n      <td></td>\n    </tr>\n    <tr>\n      <th>3</th>\n      <td>2017-06-30</td>\n      <td>interest_accrual</td>\n      <td></td>\n      <td>for period until income year end</td>\n      <td>5.4</td>\n      <td></td>\n      <td></td>\n      <td></td>\n    </tr>\n    <tr>\n      <th>4</th>\n      <td>2018-06-30</td>\n      <td>interest_accrual</td>\n      <td></td>\n      <td>for period until income year end</td>\n      <td>5.3</td>\n      <td></td>\n      <td></td>\n      <td></td>\n    </tr>\n    <tr>\n      <th>5</th>\n      <td>2019-06-30</td>\n      <td>opening_balance</td>\n      <td></td>\n      <td></td>\n      <td></td>\n      <td>1000</td>\n      <td></td>\n      <td></td>\n    </tr>\n    <tr>\n      <th>6</th>\n      <td>2019-06-30</td>\n      <td>interest_accrual</td>\n      <td></td>\n      <td>for period until income year end</td>\n      <td>5.2</td>\n      <td></td>\n      <td></td>\n      <td></td>\n    </tr>\n    <tr>\n      <th>7</th>\n      <td>2020-06-30</td>\n      <td>interest_accrual</td>\n      <td></td>\n      <td>for period until income year end</td>\n      <td>5.37</td>\n      <td></td>\n      <td></td>\n      <td></td>\n    </tr>\n    <tr>\n      <th>8</th>\n      <td>2021-06-30</td>\n      <td>interest_accrual</td>\n      <td></td>\n      <td>for period until income year end</td>\n      <td>4.52</td>\n      <td></td>\n      <td></td>\n      <td></td>\n    </tr>\n    <tr>\n      <th>9</th>\n      <td>2022-06-30</td>\n      <td>interest_accrual</td>\n      <td></td>\n      <td>for period until income year end</td>\n      <td>4.52</td>\n      <td></td>\n      <td></td>\n      <td></td>\n    </tr>\n  </tbody>\n</table>\n</div>"
     },
     "metadata": {},
     "output_type": "display_data"
    },
    {
     "ename": "Exception",
     "evalue": "No previous interest accrual record",
     "output_type": "error",
     "traceback": [
      "\u001B[0;31m---------------------------------------------------------------------------\u001B[0m",
      "\u001B[0;31mException\u001B[0m                                 Traceback (most recent call last)",
      "Cell \u001B[0;32mIn[1], line 4\u001B[0m\n\u001B[1;32m      2\u001B[0m \u001B[38;5;28;01mimport\u001B[39;00m \u001B[38;5;21;01mdiv7a_tests\u001B[39;00m \n\u001B[1;32m      3\u001B[0m \u001B[38;5;28;01mfrom\u001B[39;00m \u001B[38;5;21;01mdiv7a_tests\u001B[39;00m \u001B[38;5;28;01mimport\u001B[39;00m \u001B[38;5;241m*\u001B[39m\n\u001B[0;32m----> 4\u001B[0m tables \u001B[38;5;241m=\u001B[39m \u001B[43mtest1\u001B[49m\u001B[43m(\u001B[49m\u001B[43m)\u001B[49m\n",
      "File \u001B[0;32m~/repos/koo5/accounts-assessor/0/accounts-assessor/sources/services/unit_tests/../app/div7a_tests.py:5\u001B[0m, in \u001B[0;36mtest1\u001B[0;34m()\u001B[0m\n\u001B[1;32m      4\u001B[0m \u001B[38;5;28;01mdef\u001B[39;00m \u001B[38;5;21mtest1\u001B[39m():\n\u001B[0;32m----> 5\u001B[0m \t\u001B[38;5;28;01mreturn\u001B[39;00m \u001B[43mdiv7a\u001B[49m\u001B[43m(\u001B[49m\u001B[43m[\u001B[49m\n\u001B[1;32m      6\u001B[0m \u001B[43m\t\t\u001B[49m\u001B[43mr\u001B[49m\u001B[43m(\u001B[49m\u001B[43mdate\u001B[49m\u001B[43m(\u001B[49m\u001B[38;5;241;43m2014\u001B[39;49m\u001B[43m,\u001B[49m\u001B[43m \u001B[49m\u001B[38;5;241;43m6\u001B[39;49m\u001B[43m,\u001B[49m\u001B[43m \u001B[49m\u001B[38;5;241;43m30\u001B[39;49m\u001B[43m)\u001B[49m\u001B[43m,\u001B[49m\u001B[43m \u001B[49m\u001B[43mloan_start\u001B[49m\u001B[43m,\u001B[49m\u001B[43m \u001B[49m\u001B[43m{\u001B[49m\u001B[38;5;124;43m'\u001B[39;49m\u001B[38;5;124;43mterm\u001B[39;49m\u001B[38;5;124;43m'\u001B[39;49m\u001B[43m:\u001B[49m\u001B[43m \u001B[49m\u001B[38;5;241;43m7\u001B[39;49m\u001B[43m}\u001B[49m\u001B[43m)\u001B[49m\u001B[43m,\u001B[49m\n\u001B[1;32m      7\u001B[0m \u001B[43m\t\t\u001B[49m\u001B[43mr\u001B[49m\u001B[43m(\u001B[49m\u001B[43mdate\u001B[49m\u001B[43m(\u001B[49m\u001B[38;5;241;43m2019\u001B[39;49m\u001B[43m,\u001B[49m\u001B[43m \u001B[49m\u001B[38;5;241;43m6\u001B[39;49m\u001B[43m,\u001B[49m\u001B[43m \u001B[49m\u001B[38;5;241;43m30\u001B[39;49m\u001B[43m)\u001B[49m\u001B[43m,\u001B[49m\u001B[43m \u001B[49m\u001B[43mopening_balance\u001B[49m\u001B[43m,\u001B[49m\u001B[43m \u001B[49m\u001B[43m{\u001B[49m\u001B[38;5;124;43m'\u001B[39;49m\u001B[38;5;124;43mamount\u001B[39;49m\u001B[38;5;124;43m'\u001B[39;49m\u001B[43m:\u001B[49m\u001B[43m \u001B[49m\u001B[38;5;241;43m1000\u001B[39;49m\u001B[43m}\u001B[49m\u001B[43m)\u001B[49m\u001B[43m,\u001B[49m\n\u001B[1;32m      8\u001B[0m \u001B[43m\t\u001B[49m\u001B[43m]\u001B[49m\u001B[43m)\u001B[49m\n",
      "File \u001B[0;32m~/repos/koo5/accounts-assessor/0/accounts-assessor/sources/services/unit_tests/../app/div7a.py:62\u001B[0m, in \u001B[0;36mdiv7a\u001B[0;34m(records)\u001B[0m\n\u001B[1;32m     60\u001B[0m step(tables, insert_interest_accrual_records)\n\u001B[1;32m     61\u001B[0m \u001B[38;5;66;03m# we calculate the number of days of each accrual period\u001B[39;00m\n\u001B[0;32m---> 62\u001B[0m \u001B[43mstep\u001B[49m\u001B[43m(\u001B[49m\u001B[43mtables\u001B[49m\u001B[43m,\u001B[49m\u001B[43m \u001B[49m\u001B[43mwith_interest_accrual_days\u001B[49m\u001B[43m)\u001B[49m\n\u001B[1;32m     63\u001B[0m \u001B[38;5;66;03m# we propagate balance from start or from opening balance, adjusting for accruals and repayments\u001B[39;00m\n\u001B[1;32m     64\u001B[0m step(tables, with_balance_and_accrual)\n",
      "File \u001B[0;32m~/repos/koo5/accounts-assessor/0/accounts-assessor/sources/services/unit_tests/../app/div7a.py:81\u001B[0m, in \u001B[0;36mstep\u001B[0;34m(tables, f)\u001B[0m\n\u001B[1;32m     79\u001B[0m \u001B[38;5;66;03m# a sliced SortedList is a list, duh. \u001B[39;00m\n\u001B[1;32m     80\u001B[0m t \u001B[38;5;241m=\u001B[39m SortedList(tables[\u001B[38;5;241m-\u001B[39m\u001B[38;5;241m1\u001B[39m][:])\n\u001B[0;32m---> 81\u001B[0m \u001B[43mf\u001B[49m\u001B[43m(\u001B[49m\u001B[43mt\u001B[49m\u001B[43m)\u001B[49m\n\u001B[1;32m     82\u001B[0m tables\u001B[38;5;241m.\u001B[39mappend(t)\n\u001B[1;32m     83\u001B[0m \u001B[38;5;28;01mif\u001B[39;00m in_notebook():\n",
      "File \u001B[0;32m~/repos/koo5/accounts-assessor/0/accounts-assessor/sources/services/unit_tests/../app/div7a_impl.py:121\u001B[0m, in \u001B[0;36mwith_interest_accrual_days\u001B[0;34m(records)\u001B[0m\n\u001B[1;32m    118\u001B[0m \t\t\u001B[38;5;28;01mbreak\u001B[39;00m\n\u001B[1;32m    120\u001B[0m \u001B[38;5;28;01mif\u001B[39;00m prev_event_date \u001B[38;5;129;01mis\u001B[39;00m \u001B[38;5;28;01mNone\u001B[39;00m:\n\u001B[0;32m--> 121\u001B[0m \t\u001B[38;5;28;01mraise\u001B[39;00m \u001B[38;5;167;01mException\u001B[39;00m(\u001B[38;5;124m'\u001B[39m\u001B[38;5;124mNo previous interest accrual record\u001B[39m\u001B[38;5;124m'\u001B[39m)\n\u001B[1;32m    122\u001B[0m \u001B[38;5;28;01melse\u001B[39;00m:\t\n\u001B[1;32m    123\u001B[0m \tr\u001B[38;5;241m.\u001B[39minfo[\u001B[38;5;124m'\u001B[39m\u001B[38;5;124mdays\u001B[39m\u001B[38;5;124m'\u001B[39m] \u001B[38;5;241m=\u001B[39m days_diff(r\u001B[38;5;241m.\u001B[39mdate, prev_event_date)\n",
      "\u001B[0;31mException\u001B[0m: No previous interest accrual record"
     ]
    }
   ],
   "source": [
    "import sys;sys.path.append(\"../app\")\n",
    "import div7a_tests \n",
    "from div7a_tests import *\n",
    "tables = test1()\n"
   ],
   "metadata": {
    "collapsed": false,
    "ExecuteTime": {
     "end_time": "2023-10-18T00:29:56.330545048Z",
     "start_time": "2023-10-18T00:29:55.973103564Z"
    }
   },
   "id": "initial_id"
  },
  {
   "cell_type": "code",
   "execution_count": null,
   "outputs": [],
   "source": [],
   "metadata": {
    "collapsed": false,
    "ExecuteTime": {
     "end_time": "2023-10-18T00:20:59.077259596Z",
     "start_time": "2023-10-18T00:20:59.077072836Z"
    }
   },
   "id": "943944a59e100369"
  },
  {
   "cell_type": "code",
   "execution_count": 1,
   "outputs": [],
   "source": [],
   "metadata": {
    "collapsed": false,
    "ExecuteTime": {
     "end_time": "2023-10-18T00:19:12.921248037Z",
     "start_time": "2023-10-18T00:19:12.875929317Z"
    }
   },
   "id": "af0955f88ae5f82f"
  },
  {
   "cell_type": "code",
   "execution_count": null,
   "outputs": [],
   "source": [],
   "metadata": {
    "collapsed": false
   },
   "id": "27e02278550975fc"
  }
 ],
 "metadata": {
  "kernelspec": {
   "display_name": "Python 3",
   "language": "python",
   "name": "python3"
  },
  "language_info": {
   "codemirror_mode": {
    "name": "ipython",
    "version": 2
   },
   "file_extension": ".py",
   "mimetype": "text/x-python",
   "name": "python",
   "nbconvert_exporter": "python",
   "pygments_lexer": "ipython2",
   "version": "2.7.6"
  }
 },
 "nbformat": 4,
 "nbformat_minor": 5
}
