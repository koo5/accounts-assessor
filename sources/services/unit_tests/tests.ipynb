{
 "cells": [
  {
   "cell_type": "code",
   "execution_count": 14,
   "outputs": [
    {
     "name": "stdout",
     "output_type": "stream",
     "text": [
      "The autoreload extension is already loaded. To reload it, use:\n",
      "  %reload_ext autoreload\n"
     ]
    }
   ],
   "source": [
    "%load_ext autoreload"
   ],
   "metadata": {
    "collapsed": false,
    "ExecuteTime": {
     "end_time": "2023-10-17T21:52:51.967384298Z",
     "start_time": "2023-10-17T21:52:51.955927565Z"
    }
   },
   "id": "52a72d4fb822a89f"
  },
  {
   "cell_type": "code",
   "execution_count": 15,
   "outputs": [],
   "source": [
    "%autoreload 2"
   ],
   "metadata": {
    "collapsed": false,
    "ExecuteTime": {
     "end_time": "2023-10-17T21:52:54.710810478Z",
     "start_time": "2023-10-17T21:52:54.700906547Z"
    }
   },
   "id": "41aed043447a802e"
  },
  {
   "cell_type": "code",
   "execution_count": 1,
   "outputs": [
    {
     "ename": "AttributeError",
     "evalue": "'list' object has no attribute 'add'",
     "output_type": "error",
     "traceback": [
      "\u001B[0;31m---------------------------------------------------------------------------\u001B[0m",
      "\u001B[0;31mAttributeError\u001B[0m                            Traceback (most recent call last)",
      "Cell \u001B[0;32mIn[1], line 4\u001B[0m\n\u001B[1;32m      2\u001B[0m \u001B[38;5;28;01mimport\u001B[39;00m \u001B[38;5;21;01mdiv7a_tests\u001B[39;00m \n\u001B[1;32m      3\u001B[0m \u001B[38;5;28;01mfrom\u001B[39;00m \u001B[38;5;21;01mdiv7a_tests\u001B[39;00m \u001B[38;5;28;01mimport\u001B[39;00m \u001B[38;5;241m*\u001B[39m\n\u001B[0;32m----> 4\u001B[0m tables \u001B[38;5;241m=\u001B[39m \u001B[43mtest1\u001B[49m\u001B[43m(\u001B[49m\u001B[43m)\u001B[49m\n",
      "File \u001B[0;32m~/repos/koo5/accounts-assessor/0/accounts-assessor/sources/services/unit_tests/../app/div7a_tests.py:5\u001B[0m, in \u001B[0;36mtest1\u001B[0;34m()\u001B[0m\n\u001B[1;32m      4\u001B[0m \u001B[38;5;28;01mdef\u001B[39;00m \u001B[38;5;21mtest1\u001B[39m():\n\u001B[0;32m----> 5\u001B[0m \t\u001B[38;5;28;01mreturn\u001B[39;00m \u001B[43mdiv7a\u001B[49m\u001B[43m(\u001B[49m\u001B[43m[\u001B[49m\n\u001B[1;32m      6\u001B[0m \u001B[43m\t\t\u001B[49m\u001B[43mr\u001B[49m\u001B[43m(\u001B[49m\u001B[43mdate\u001B[49m\u001B[43m(\u001B[49m\u001B[38;5;241;43m2014\u001B[39;49m\u001B[43m,\u001B[49m\u001B[43m \u001B[49m\u001B[38;5;241;43m6\u001B[39;49m\u001B[43m,\u001B[49m\u001B[43m \u001B[49m\u001B[38;5;241;43m30\u001B[39;49m\u001B[43m)\u001B[49m\u001B[43m,\u001B[49m\u001B[43m \u001B[49m\u001B[43mloan_start\u001B[49m\u001B[43m,\u001B[49m\u001B[43m \u001B[49m\u001B[43m{\u001B[49m\u001B[38;5;124;43m'\u001B[39;49m\u001B[38;5;124;43mterm\u001B[39;49m\u001B[38;5;124;43m'\u001B[39;49m\u001B[43m:\u001B[49m\u001B[43m \u001B[49m\u001B[38;5;241;43m7\u001B[39;49m\u001B[43m}\u001B[49m\u001B[43m)\u001B[49m\u001B[43m,\u001B[49m\n\u001B[1;32m      7\u001B[0m \u001B[43m\t\t\u001B[49m\u001B[43mr\u001B[49m\u001B[43m(\u001B[49m\u001B[43mdate\u001B[49m\u001B[43m(\u001B[49m\u001B[38;5;241;43m2019\u001B[39;49m\u001B[43m,\u001B[49m\u001B[43m \u001B[49m\u001B[38;5;241;43m6\u001B[39;49m\u001B[43m,\u001B[49m\u001B[43m \u001B[49m\u001B[38;5;241;43m30\u001B[39;49m\u001B[43m)\u001B[49m\u001B[43m,\u001B[49m\u001B[43m \u001B[49m\u001B[43mopening_balance\u001B[49m\u001B[43m,\u001B[49m\u001B[43m \u001B[49m\u001B[43m{\u001B[49m\u001B[38;5;124;43m'\u001B[39;49m\u001B[38;5;124;43mamount\u001B[39;49m\u001B[38;5;124;43m'\u001B[39;49m\u001B[43m:\u001B[49m\u001B[43m \u001B[49m\u001B[38;5;241;43m1000\u001B[39;49m\u001B[43m}\u001B[49m\u001B[43m)\u001B[49m\u001B[43m,\u001B[49m\n\u001B[1;32m      8\u001B[0m \u001B[43m\t\u001B[49m\u001B[43m]\u001B[49m\u001B[43m)\u001B[49m\n",
      "File \u001B[0;32m~/repos/koo5/accounts-assessor/0/accounts-assessor/sources/services/unit_tests/../app/div7a.py:55\u001B[0m, in \u001B[0;36mdiv7a\u001B[0;34m(records)\u001B[0m\n\u001B[1;32m     52\u001B[0m \u001B[38;5;28;01mdef\u001B[39;00m \u001B[38;5;21mdiv7a\u001B[39m(records):\n\u001B[1;32m     53\u001B[0m \ttables \u001B[38;5;241m=\u001B[39m [SortedList(records)]\n\u001B[0;32m---> 55\u001B[0m \t\u001B[43mstep\u001B[49m\u001B[43m(\u001B[49m\u001B[43mtables\u001B[49m\u001B[43m,\u001B[49m\u001B[43m \u001B[49m\u001B[43minsert_interest_accrual_records\u001B[49m\u001B[43m)\u001B[49m\n\u001B[1;32m     56\u001B[0m \tstep(tables, with_interest_accrual_days)\n\u001B[1;32m     57\u001B[0m \tstep(tables, with_balance_and_accrual)\n",
      "File \u001B[0;32m~/repos/koo5/accounts-assessor/0/accounts-assessor/sources/services/unit_tests/../app/div7a.py:68\u001B[0m, in \u001B[0;36mstep\u001B[0;34m(tables, f)\u001B[0m\n\u001B[1;32m     66\u001B[0m check_invariants(tables[\u001B[38;5;241m-\u001B[39m\u001B[38;5;241m1\u001B[39m])\n\u001B[1;32m     67\u001B[0m t \u001B[38;5;241m=\u001B[39m tables[\u001B[38;5;241m-\u001B[39m\u001B[38;5;241m1\u001B[39m][:]\n\u001B[0;32m---> 68\u001B[0m \u001B[43mf\u001B[49m\u001B[43m(\u001B[49m\u001B[43mt\u001B[49m\u001B[43m)\u001B[49m\n\u001B[1;32m     69\u001B[0m tables\u001B[38;5;241m.\u001B[39mappend(t)\n\u001B[1;32m     70\u001B[0m \u001B[38;5;28;01mif\u001B[39;00m in_notebook():\n",
      "File \u001B[0;32m~/repos/koo5/accounts-assessor/0/accounts-assessor/sources/services/unit_tests/../app/div7a_impl.py:12\u001B[0m, in \u001B[0;36minsert_interest_accrual_records\u001B[0;34m(records)\u001B[0m\n\u001B[1;32m      9\u001B[0m loan_term \u001B[38;5;241m=\u001B[39m loan_start_record\u001B[38;5;241m.\u001B[39minfo[\u001B[38;5;124m'\u001B[39m\u001B[38;5;124mterm\u001B[39m\u001B[38;5;124m'\u001B[39m]\n\u001B[1;32m     11\u001B[0m \u001B[38;5;28;01mfor\u001B[39;00m income_year \u001B[38;5;129;01min\u001B[39;00m inclusive_range(first_year, first_year \u001B[38;5;241m+\u001B[39m loan_term):\n\u001B[0;32m---> 12\u001B[0m \t\u001B[43mrecords\u001B[49m\u001B[38;5;241;43m.\u001B[39;49m\u001B[43madd\u001B[49m(r(\n\u001B[1;32m     13\u001B[0m \t\tdate(income_year, \u001B[38;5;241m6\u001B[39m, \u001B[38;5;241m30\u001B[39m),\n\u001B[1;32m     14\u001B[0m \t\tinterest_accrual,\n\u001B[1;32m     15\u001B[0m \t\t{\n\u001B[1;32m     16\u001B[0m \t\t\t\u001B[38;5;124m'\u001B[39m\u001B[38;5;124mnote\u001B[39m\u001B[38;5;124m'\u001B[39m:\u001B[38;5;124m'\u001B[39m\u001B[38;5;124mfor period until income year end\u001B[39m\u001B[38;5;124m'\u001B[39m, \n\u001B[1;32m     17\u001B[0m \t\t\t\u001B[38;5;124m'\u001B[39m\u001B[38;5;124msorting\u001B[39m\u001B[38;5;124m'\u001B[39m:{\u001B[38;5;124m'\u001B[39m\u001B[38;5;124mgoes_before_any\u001B[39m\u001B[38;5;124m'\u001B[39m: [opening_balance]},\n\u001B[1;32m     18\u001B[0m \t\t\t\u001B[38;5;124m'\u001B[39m\u001B[38;5;124mrate\u001B[39m\u001B[38;5;124m'\u001B[39m: benchmark_rate(income_year),\n\u001B[1;32m     19\u001B[0m \t\t}))\n\u001B[1;32m     21\u001B[0m \u001B[38;5;28;01mfor\u001B[39;00m repayment \u001B[38;5;129;01min\u001B[39;00m repayments(records):\n\u001B[1;32m     22\u001B[0m \trecords\u001B[38;5;241m.\u001B[39madd(r(\n\u001B[1;32m     23\u001B[0m \t\trepayment\u001B[38;5;241m.\u001B[39mdate, \n\u001B[1;32m     24\u001B[0m \t\tinterest_accrual,\n\u001B[0;32m   (...)\u001B[0m\n\u001B[1;32m     27\u001B[0m \t\t\t\u001B[38;5;124m'\u001B[39m\u001B[38;5;124mrate\u001B[39m\u001B[38;5;124m'\u001B[39m: benchmark_rate(repayment\u001B[38;5;241m.\u001B[39mincome_year)\n\u001B[1;32m     28\u001B[0m \t\t}))\n",
      "\u001B[0;31mAttributeError\u001B[0m: 'list' object has no attribute 'add'"
     ]
    }
   ],
   "source": [
    "import sys;sys.path.append(\"../app\")\n",
    "import div7a_tests \n",
    "from div7a_tests import *\n",
    "tables = test1()\n"
   ],
   "metadata": {
    "collapsed": false,
    "ExecuteTime": {
     "end_time": "2023-10-17T21:53:03.716342338Z",
     "start_time": "2023-10-17T21:53:03.585158960Z"
    }
   },
   "id": "initial_id"
  },
  {
   "cell_type": "code",
   "execution_count": null,
   "outputs": [],
   "source": [],
   "metadata": {
    "collapsed": false
   },
   "id": "943944a59e100369"
  },
  {
   "cell_type": "code",
   "execution_count": 37,
   "outputs": [
    {
     "data": {
      "text/plain": "               a                                b     c\n0           4252  [1, 2, 3, 4, 5, 6, 7, 8, 9, 10]   NaN\n1  [1, 2, 3, 10]                 [1, 2, 8, 9, 10]  xxxx",
      "text/html": "<div>\n<style scoped>\n    .dataframe tbody tr th:only-of-type {\n        vertical-align: middle;\n    }\n\n    .dataframe tbody tr th {\n        vertical-align: top;\n    }\n\n    .dataframe thead th {\n        text-align: right;\n    }\n</style>\n<table border=\"1\" class=\"dataframe\">\n  <thead>\n    <tr style=\"text-align: right;\">\n      <th></th>\n      <th>a</th>\n      <th>b</th>\n      <th>c</th>\n    </tr>\n  </thead>\n  <tbody>\n    <tr>\n      <th>0</th>\n      <td>4252</td>\n      <td>[1, 2, 3, 4, 5, 6, 7, 8, 9, 10]</td>\n      <td>NaN</td>\n    </tr>\n    <tr>\n      <th>1</th>\n      <td>[1, 2, 3, 10]</td>\n      <td>[1, 2, 8, 9, 10]</td>\n      <td>xxxx</td>\n    </tr>\n  </tbody>\n</table>\n</div>"
     },
     "metadata": {},
     "output_type": "display_data"
    },
    {
     "data": {
      "text/plain": "               a                                b     c\n0           4252  [1, 2, 3, 4, 5, 6, 7, 8, 9, 10]   NaN\n1  [1, 2, 3, 10]                 [1, 2, 8, 9, 10]  xxxx",
      "text/html": "<div>\n<style scoped>\n    .dataframe tbody tr th:only-of-type {\n        vertical-align: middle;\n    }\n\n    .dataframe tbody tr th {\n        vertical-align: top;\n    }\n\n    .dataframe thead th {\n        text-align: right;\n    }\n</style>\n<table border=\"1\" class=\"dataframe\">\n  <thead>\n    <tr style=\"text-align: right;\">\n      <th></th>\n      <th>a</th>\n      <th>b</th>\n      <th>c</th>\n    </tr>\n  </thead>\n  <tbody>\n    <tr>\n      <th>0</th>\n      <td>4252</td>\n      <td>[1, 2, 3, 4, 5, 6, 7, 8, 9, 10]</td>\n      <td>NaN</td>\n    </tr>\n    <tr>\n      <th>1</th>\n      <td>[1, 2, 3, 10]</td>\n      <td>[1, 2, 8, 9, 10]</td>\n      <td>xxxx</td>\n    </tr>\n  </tbody>\n</table>\n</div>"
     },
     "metadata": {},
     "output_type": "display_data"
    }
   ],
   "source": [
    "\n",
    "from IPython.display import display\n",
    "import pandas as pd\n",
    "display(f)\n",
    "display(pd.DataFrame(f))"
   ],
   "metadata": {
    "collapsed": false,
    "ExecuteTime": {
     "end_time": "2023-10-13T20:00:50.857604363Z",
     "start_time": "2023-10-13T20:00:50.773377769Z"
    }
   },
   "id": "af0955f88ae5f82f"
  }
 ],
 "metadata": {
  "kernelspec": {
   "display_name": "Python 3",
   "language": "python",
   "name": "python3"
  },
  "language_info": {
   "codemirror_mode": {
    "name": "ipython",
    "version": 2
   },
   "file_extension": ".py",
   "mimetype": "text/x-python",
   "name": "python",
   "nbconvert_exporter": "python",
   "pygments_lexer": "ipython2",
   "version": "2.7.6"
  }
 },
 "nbformat": 4,
 "nbformat_minor": 5
}
