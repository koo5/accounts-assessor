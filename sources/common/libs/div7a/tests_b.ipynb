{
 "cells": [
  {
   "cell_type": "code",
   "execution_count": 1,
   "id": "initial_id",
   "metadata": {
    "collapsed": true,
    "ExecuteTime": {
     "end_time": "2023-12-05T22:19:04.606662588Z",
     "start_time": "2023-12-05T22:19:04.364422415Z"
    }
   },
   "source": [
    "%load_ext autoreload\n",
    "%autoreload 2\n",
    "from app.div7a import *\n",
    "div7a_from_json({'creation_income_year': '1998', 'term': '1', 'computation_income_year': '1999', 'opening_balance': -1, 'principal_amount': '298', \"repayments\": [\n",
    "\t{\"date\": \"1999-01-01\", \"value\": \"40\"},\n",
    "\t{\"date\": \"1999-05-01\", \"value\": \"40\"}], 'lodgement_date': '1999-06-04'\n",
    "\t\t\t\t })\n",
    "\n"
   ],
   "outputs": []
  }
 ],
 "metadata": {
  "kernelspec": {
   "display_name": "Python 3",
   "language": "python",
   "name": "python3"
  },
  "language_info": {
   "codemirror_mode": {
    "name": "ipython",
    "version": 2
   },
   "file_extension": ".py",
   "mimetype": "text/x-python",
   "name": "python",
   "nbconvert_exporter": "python",
   "pygments_lexer": "ipython2",
   "version": "2.7.6"
  }
 },
 "nbformat": 4,
 "nbformat_minor": 5
}
