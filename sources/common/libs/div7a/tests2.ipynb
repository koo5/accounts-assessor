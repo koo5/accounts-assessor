{
 "cells": [
  {
   "cell_type": "code",
   "execution_count": 28,
   "source": [
    "%load_ext autoreload\n",
    "%autoreload 2\n",
    "from app.div7a import *\n",
    "div7a_from_json({'creation_income_year': '1998', 'term': '1', 'computation_income_year': '1999', 'opening_balance': '298', 'principal_amount': -1, \"repayments\": [\n",
    "\t\t\t{\"date\": \"1999-01-01\",\"value\": \"40\"},\n",
    "\t\t\t{\"date\": \"1999-05-01\",\"value\": \"40\"}], 'lodgement_date': '1999-02-04'\n",
    "\t\t})\n",
    "\n"
   ],
   "metadata": {
    "collapsed": false,
    "ExecuteTime": {
     "end_time": "2023-11-15T19:11:24.071505910Z",
     "start_time": "2023-11-15T19:11:24.002740563Z"
    }
   },
   "id": "3517c853c3e13b84",
   "outputs": []
  }
 ]
}
