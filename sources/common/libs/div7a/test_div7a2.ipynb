{
 "cells": [
  {
   "cell_type": "code",
   "execution_count": 12,
   "id": "initial_id",
   "metadata": {
    "collapsed": true,
    "ExecuteTime": {
     "end_time": "2023-12-06T17:12:16.884976699Z",
     "start_time": "2023-12-06T17:12:16.369186881Z"
    }
   },
   "source": [
    "%load_ext autoreload\n",
    "%autoreload 2\n",
    "from app.div7a import *\n",
    "#div7a2_from_json({\"loan_year\": 2020, \"full_term\": 7, \"opening_balance\": 100000.0, \"opening_balance_year\": 2020, \"repayments\": [{\"date\": \"2023-11-25\", \"amount\": 0.0}], \"lodgement_date\": \"2021-06-30\"})\n",
    "div7a2_from_json({\"loan_year\": 2020, \"full_term\": 7, \"opening_balance\": 100000.0, \"opening_balance_year\": 2020, \"repayments\": [{\"date\": \"2021-06-30\", \"amount\": 17000.0}, {\"date\": \"2022-06-30\", \"amount\": 10000.0}, {\"date\": \"2022-06-30\", \"amount\": 6979}], \"lodgement_date\": \"2021-06-30\"})"
   ],
   "outputs": []
  }
 ],
 "metadata": {
  "kernelspec": {
   "display_name": "Python 3",
   "language": "python",
   "name": "python3"
  },
  "language_info": {
   "codemirror_mode": {
    "name": "ipython",
    "version": 2
   },
   "file_extension": ".py",
   "mimetype": "text/x-python",
   "name": "python",
   "nbconvert_exporter": "python",
   "pygments_lexer": "ipython2",
   "version": "2.7.6"
  }
 },
 "nbformat": 4,
 "nbformat_minor": 5
}
