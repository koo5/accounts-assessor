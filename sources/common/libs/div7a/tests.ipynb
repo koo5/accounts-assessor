{
 "cells": [
  {
   "cell_type": "code",
   "execution_count": 15,
   "source": [
    "%load_ext autoreload\n",
    "%autoreload 2\n",
    "from app.div7a import *\n",
    "div7a_from_json({'creation_income_year': '1998', 'term': '1', 'computation_income_year': '1999', 'opening_balance': -1, 'principal_amount': '298', \"repayments\": [\n",
    "\t\t\t{\"date\": \"1999-01-01\",\"value\": \"40\"},\n",
    "\t\t\t{\"date\": \"1999-05-01\",\"value\": \"40\"}], 'lodgement_date': '1999-02-04'\n",
    "\t\t})\n",
    "\n"
   ],
   "metadata": {
    "collapsed": false,
    "ExecuteTime": {
     "end_time": "2023-11-15T19:10:08.278398767Z",
     "start_time": "2023-11-15T19:10:08.186025891Z"
    }
   },
   "id": "fe877d0d1ef2b32f",
   "outputs": []
  }
 ]
}
